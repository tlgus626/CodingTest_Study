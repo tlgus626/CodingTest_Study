{
 "cells": [
  {
   "cell_type": "code",
   "execution_count": 28,
   "id": "676a5f47",
   "metadata": {},
   "outputs": [],
   "source": [
    "n = 5\n",
    "lost= [1,3]\n",
    "reserve = [2,4]"
   ]
  },
  {
   "cell_type": "code",
   "execution_count": 29,
   "id": "7dd63d3f",
   "metadata": {},
   "outputs": [
    {
     "name": "stdout",
     "output_type": "stream",
     "text": [
      "5\n"
     ]
    }
   ],
   "source": [
    "for i in lost:\n",
    "    if i in reserve:\n",
    "        reserve.remove(i)\n",
    "        continue\n",
    "#     if i == 1:\n",
    "#         if i+1 in reserve1:\n",
    "#             reserve1.remove(i+1)\n",
    "#             continue\n",
    "#         else:\n",
    "#             n-=1\n",
    "#             continue\n",
    "#     if i == n:\n",
    "#         if i-1 in reserve1:\n",
    "#             reserve1.remove(i-1)\n",
    "#             continue\n",
    "#         else:\n",
    "#             n-=1\n",
    "#             continue\n",
    "    if i-1 in reserve:\n",
    "        reserve.remove(i-1)\n",
    "    elif i+1 in reserve:\n",
    "        reserve.remove(i+1)\n",
    "    else:\n",
    "        n-=1\n",
    "        \n",
    "print(n)"
   ]
  },
  {
   "cell_type": "code",
   "execution_count": null,
   "id": "649fce9b",
   "metadata": {},
   "outputs": [],
   "source": [
    "def solution(n, lost, reserve):\n",
    "    lost1=lost.copy()\n",
    "    for i in lost:\n",
    "        if i in reserve:\n",
    "            reserve.remove(i)\n",
    "            lost1.remove(i)\n",
    "    lost2=lost1.copy()\n",
    "    for i in lost1:\n",
    "        if i-1 in reserve:\n",
    "            lost2.remove(i)\n",
    "            reserve.remove(i-1)\n",
    "        elif i+1 in reserve:\n",
    "            lost2.remove(i)\n",
    "            reserve.remove(i+1)\n",
    "        else:\n",
    "            continue\n",
    "    max_stu=n-len(lost2)        \n",
    "    answer=max_stu     \n",
    "    return answer"
   ]
  },
  {
   "cell_type": "code",
   "execution_count": null,
   "id": "382abf4f",
   "metadata": {},
   "outputs": [],
   "source": [
    "\n",
    "lost1 = list(set(lost)-set(reserve))\n",
    "reserve1 = list(set(reserve)-set(lost))\n",
    "for i in lost1:\n",
    "    if len(lost1)==0:\n",
    "        break\n",
    "    if i-1 in reserve:\n",
    "        reserve1.remove(i-1)\n",
    "\n",
    "    elif i+1 in reserve:\n",
    "        reserve1.remove(i+1)\n",
    "\n",
    "    else:\n",
    "        n-=1\n",
    "\n",
    "prtin(n)"
   ]
  },
  {
   "cell_type": "code",
   "execution_count": 39,
   "id": "5bc7455d",
   "metadata": {},
   "outputs": [
    {
     "name": "stdout",
     "output_type": "stream",
     "text": [
      "1\n"
     ]
    }
   ],
   "source": [
    "a=[1]\n",
    "for i in a:\n",
    "    print(i)"
   ]
  },
  {
   "cell_type": "code",
   "execution_count": 35,
   "id": "d72e6218",
   "metadata": {},
   "outputs": [
    {
     "data": {
      "text/plain": [
       "0"
      ]
     },
     "execution_count": 35,
     "metadata": {},
     "output_type": "execute_result"
    }
   ],
   "source": [
    "len('')"
   ]
  },
  {
   "cell_type": "code",
   "execution_count": null,
   "id": "7c55dd07",
   "metadata": {},
   "outputs": [],
   "source": [
    "lost1 = list(set(lost)-set(reserve))\n",
    "reserve1 = list(set(reserve)-set(lost))\n",
    "lost2=lost1.copy()\n",
    "for i in lost1:\n",
    "    if i-1 in reserve:\n",
    "        lost2.remove(i)\n",
    "        reserve1.remove(i-1)\n",
    "    elif i+1 in reserve:\n",
    "        lost2.remove(i)\n",
    "        reserve1.remove(i+1)\n",
    "    else:\n",
    "        continue\n",
    "max_stu=n-len(lost2)        \n",
    "print(max_stu)"
   ]
  },
  {
   "cell_type": "code",
   "execution_count": 41,
   "id": "919f19df",
   "metadata": {},
   "outputs": [],
   "source": [
    "lost=[3,4,5]\n",
    "reserve=[3,4]"
   ]
  },
  {
   "cell_type": "code",
   "execution_count": 42,
   "id": "ad392020",
   "metadata": {},
   "outputs": [
    {
     "data": {
      "text/plain": [
       "{5}"
      ]
     },
     "execution_count": 42,
     "metadata": {},
     "output_type": "execute_result"
    }
   ],
   "source": [
    "set(lost)-set(reserve)"
   ]
  },
  {
   "cell_type": "code",
   "execution_count": 43,
   "id": "7160b803",
   "metadata": {},
   "outputs": [
    {
     "data": {
      "text/plain": [
       "set()"
      ]
     },
     "execution_count": 43,
     "metadata": {},
     "output_type": "execute_result"
    }
   ],
   "source": [
    "set(reserve)-set(lost)"
   ]
  },
  {
   "cell_type": "code",
   "execution_count": null,
   "id": "10c1e3ab",
   "metadata": {},
   "outputs": [],
   "source": [
    "def solution(n, lost, reserve):\n",
    "    lost1 = list(set(lost)-set(reserve))  # 도난과 여벌이 동시에 발생한 학생 (중복 거르기)\n",
    "    reserve1 = list(set(reserve)-set(lost))\n",
    "    lost2=lost1.copy()\n",
    "    for i in lost1:\n",
    "        if i-1 in reserve1:\n",
    "            lost2.remove(i)\n",
    "            reserve1.remove(i-1)\n",
    "        elif i+1 in reserve1:\n",
    "            lost2.remove(i)\n",
    "            reserve1.remove(i+1)\n",
    "        else:\n",
    "            continue\n",
    "    max_stu=n-len(lost2)      \n",
    "    answer=max_stu     \n",
    "    return answer"
   ]
  }
 ],
 "metadata": {
  "kernelspec": {
   "display_name": "Python 3 (ipykernel)",
   "language": "python",
   "name": "python3"
  },
  "language_info": {
   "codemirror_mode": {
    "name": "ipython",
    "version": 3
   },
   "file_extension": ".py",
   "mimetype": "text/x-python",
   "name": "python",
   "nbconvert_exporter": "python",
   "pygments_lexer": "ipython3",
   "version": "3.7.6"
  }
 },
 "nbformat": 4,
 "nbformat_minor": 5
}
