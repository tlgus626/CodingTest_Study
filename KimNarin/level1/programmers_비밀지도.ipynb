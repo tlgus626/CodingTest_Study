{
 "cells": [
  {
   "cell_type": "code",
   "execution_count": 39,
   "id": "bba85e1f",
   "metadata": {},
   "outputs": [],
   "source": [
    "n = 5\n",
    "arr1 = [9,20,28,18,11]\n",
    "arr2 = [30,1,21,17,28]"
   ]
  },
  {
   "cell_type": "code",
   "execution_count": 26,
   "id": "38abcd0a",
   "metadata": {},
   "outputs": [
    {
     "data": {
      "text/plain": [
       "'1'"
      ]
     },
     "execution_count": 26,
     "metadata": {},
     "output_type": "execute_result"
    }
   ],
   "source": [
    "bin(1).replace('0b','')"
   ]
  },
  {
   "cell_type": "code",
   "execution_count": 30,
   "id": "90ceb142",
   "metadata": {},
   "outputs": [
    {
     "data": {
      "text/plain": [
       "'00b10'"
      ]
     },
     "execution_count": 30,
     "metadata": {},
     "output_type": "execute_result"
    }
   ],
   "source": [
    "bin(2).zfill(5)"
   ]
  },
  {
   "cell_type": "code",
   "execution_count": 25,
   "id": "b0bfdbe7",
   "metadata": {},
   "outputs": [
    {
     "name": "stdout",
     "output_type": "stream",
     "text": [
      "01001 11110\n",
      "11101 01\n",
      "11100 10101\n",
      "10010 10001\n",
      "01011 11100\n"
     ]
    }
   ],
   "source": [
    "for i, j in zip(arr1,arr2):\n",
    "    if len(bin(i).replace('0b','')) !=5 :\n",
    "        binary1 = bin(i).replace('0b','').zfill(5)\n",
    "    elif len(bin(i).replace('0b','')) ==5:\n",
    "        binary1 = bin(i).replace('0b','')\n",
    "    if len(bin(j).replace('0b','')) !=5 :\n",
    "        binary2 = bin(j).replace('0b','')\n",
    "    elif len(bin(j).replace('0b','')) ==5:\n",
    "        binary2 = bin(j).replace('0b','')\n",
    "    print(binary1,binary2)"
   ]
  },
  {
   "cell_type": "code",
   "execution_count": 64,
   "id": "41439b0f",
   "metadata": {},
   "outputs": [
    {
     "name": "stdout",
     "output_type": "stream",
     "text": [
      "01001 11110\n",
      "10100 00001\n",
      "11100 10101\n",
      "10010 10001\n",
      "01011 11100\n"
     ]
    }
   ],
   "source": [
    "password_lst = []\n",
    "for i, j in zip(arr1,arr2):\n",
    "    binary1 = bin(i).replace('0b','').zfill(n)\n",
    "    binary2 = bin(j).replace('0b','').zfill(n)\n",
    "    password = map(lamda x :' ' if x1=='0' else: '# ', for binary in binary1|bianry2)\n",
    "    password_lst.extend(password)    "
   ]
  },
  {
   "cell_type": "code",
   "execution_count": 78,
   "id": "346d816e",
   "metadata": {},
   "outputs": [],
   "source": [
    "password_lst = []\n",
    "for i, j in zip(arr1,arr2):\n",
    "    password =''\n",
    "    binary= bin(i|j).replace('0b','').zfill(n)\n",
    "    password += ''.join(map(lambda x :' ' if x=='0' else '#', binary))\n",
    "    password_lst.append(password)"
   ]
  },
  {
   "cell_type": "code",
   "execution_count": 79,
   "id": "aa59dcf5",
   "metadata": {},
   "outputs": [
    {
     "data": {
      "text/plain": [
       "['#####', '# # #', '### #', '#  ##', '#####']"
      ]
     },
     "execution_count": 79,
     "metadata": {},
     "output_type": "execute_result"
    }
   ],
   "source": [
    "password_lst"
   ]
  },
  {
   "cell_type": "code",
   "execution_count": 71,
   "id": "0b3fb74c",
   "metadata": {},
   "outputs": [
    {
     "ename": "SyntaxError",
     "evalue": "invalid syntax (3147115725.py, line 1)",
     "output_type": "error",
     "traceback": [
      "\u001b[0;36m  File \u001b[0;32m\"/tmp/ipykernel_1378/3147115725.py\"\u001b[0;36m, line \u001b[0;32m1\u001b[0m\n\u001b[0;31m    password = map(lamda x :' ' if x=='0' else '#', for binary in binary1|bianry2)\u001b[0m\n\u001b[0m                         ^\u001b[0m\n\u001b[0;31mSyntaxError\u001b[0m\u001b[0;31m:\u001b[0m invalid syntax\n"
     ]
    }
   ],
   "source": [
    "password = map(lamda x :' ' if x=='0' else '#', for binary in binary1|bianry2)"
   ]
  },
  {
   "cell_type": "code",
   "execution_count": null,
   "id": "78d42a88",
   "metadata": {},
   "outputs": [],
   "source": [
    "    if len(bin(i).replace('0b','')) !=5 :\n",
    "        binary1 = bin(i).replace('0b','0')\n",
    "    elif len(bin(i).replace('0b','')) ==5:\n",
    "        binary1 = bin(i).replace('0b','')\n",
    "    if len(bin(j).replace('0b','')) !=5 :\n",
    "        binary2 = bin(j).replace('0b','0')\n",
    "    elif len(bin(j).replace('0b','')) ==5:\n",
    "        binary2 = bin(j).replace('0b','')\n",
    "    print(binary1,binary2)"
   ]
  },
  {
   "cell_type": "code",
   "execution_count": null,
   "id": "c845bfda",
   "metadata": {},
   "outputs": [],
   "source": [
    "def solution(n, arr1, arr2):\n",
    "    arr=[arr1,arr2]\n",
    "    arr1_new=[]\n",
    "    arr2_new=[]\n",
    "    for i in arr1:\n",
    "        binary1=\"\"\n",
    "        q1=i\n",
    "        while q1>0:\n",
    "            q1,r1=divmod(q1,2)\n",
    "            binary1+=str(r1)\n",
    "        binary1=\"\".join(reversed(binary1))\n",
    "        binary1_new=binary1.zfill(n)\n",
    "        arr1_new.append(binary1_new)\n",
    "    for v in arr2:\n",
    "        binary2=\"\"\n",
    "        q2=v\n",
    "        while q2>0:\n",
    "            q2,r2=divmod(q2,2)\n",
    "            binary2+=str(r2)\n",
    "        binary2=\"\".join(reversed(binary2))\n",
    "        binary2_new=binary2.zfill(n)\n",
    "        arr2_new.append(binary2_new)\n",
    "    final_lst=[]\n",
    "    for j,k in zip(arr1_new,arr2_new):\n",
    "        final=\"\"\n",
    "        for m,n in zip(j,k):\n",
    "            if (m==\"0\" and n==\"0\"):\n",
    "                final+=\" \"\n",
    "            else:\n",
    "                final+=\"#\"\n",
    "        final_lst.append(final)\n",
    "    return final_lst"
   ]
  },
  {
   "cell_type": "code",
   "execution_count": null,
   "id": "7592e3ef",
   "metadata": {},
   "outputs": [],
   "source": [
    "answer = []\n",
    "for i,j in zip(arr1,arr2):\n",
    "    a12 = str(bin(i|j)[2:])\n",
    "    a12=a12.rjust(n,'0')\n",
    "    a12=a12.replace('1','#')\n",
    "    a12=a12.replace('0',' ')\n",
    "    answer.append(a12)"
   ]
  },
  {
   "cell_type": "code",
   "execution_count": 45,
   "id": "986d6234",
   "metadata": {},
   "outputs": [
    {
     "data": {
      "text/plain": [
       "'11111'"
      ]
     },
     "execution_count": 45,
     "metadata": {},
     "output_type": "execute_result"
    }
   ],
   "source": [
    "bin(9|30)[2:].rjust(5,'0')"
   ]
  },
  {
   "cell_type": "code",
   "execution_count": 48,
   "id": "34e7752e",
   "metadata": {},
   "outputs": [
    {
     "data": {
      "text/plain": [
       "' 3000'"
      ]
     },
     "execution_count": 48,
     "metadata": {},
     "output_type": "execute_result"
    }
   ],
   "source": [
    "' 3'.ljust(5,'0')"
   ]
  },
  {
   "cell_type": "code",
   "execution_count": 50,
   "id": "03ae8726",
   "metadata": {},
   "outputs": [],
   "source": [
    "sol = lambda n, arr1, arr2: ([''.join(map(lambda x: '#' if x=='1' else ' ', \"{0:b}\".format(row).zfill(n))) for row in (a|b for a, b in zip(arr1, arr2))])"
   ]
  },
  {
   "cell_type": "code",
   "execution_count": 54,
   "id": "95cde762",
   "metadata": {},
   "outputs": [
    {
     "name": "stdout",
     "output_type": "stream",
     "text": [
      "31\n",
      "21\n",
      "29\n",
      "19\n",
      "31\n"
     ]
    }
   ],
   "source": [
    "for row in (a|b for a, b in zip(arr1, arr2)):\n",
    "    print(row)"
   ]
  },
  {
   "cell_type": "code",
   "execution_count": 55,
   "id": "1fdfbe6e",
   "metadata": {},
   "outputs": [
    {
     "data": {
      "text/plain": [
       "'0b11111'"
      ]
     },
     "execution_count": 55,
     "metadata": {},
     "output_type": "execute_result"
    }
   ],
   "source": [
    "bin(31)"
   ]
  },
  {
   "cell_type": "code",
   "execution_count": 63,
   "id": "7c644fa1",
   "metadata": {},
   "outputs": [
    {
     "data": {
      "text/plain": [
       "'1001'"
      ]
     },
     "execution_count": 63,
     "metadata": {},
     "output_type": "execute_result"
    }
   ],
   "source": [
    "\"{0:b}\".format(9)"
   ]
  },
  {
   "cell_type": "code",
   "execution_count": null,
   "id": "aaef2e8a",
   "metadata": {},
   "outputs": [],
   "source": [
    "def solution(n, arr1, arr2):\n",
    "    password_lst = []\n",
    "    for i, j in zip(arr1,arr2):\n",
    "        password = ''\n",
    "        binary1 = bin(i).replace('0b','').zfill(n)\n",
    "        binary2 = bin(j).replace('0b','').zfill(n)\n",
    "        for i in range(n):\n",
    "            if (binary1[i]==binary2[i]) and (binary1[i]=='0'):\n",
    "                password += ' '\n",
    "            else:\n",
    "                password += '#'\n",
    "        password_lst.append(password)\n",
    "    return password_lst"
   ]
  }
 ],
 "metadata": {
  "kernelspec": {
   "display_name": "Python 3 (ipykernel)",
   "language": "python",
   "name": "python3"
  },
  "language_info": {
   "codemirror_mode": {
    "name": "ipython",
    "version": 3
   },
   "file_extension": ".py",
   "mimetype": "text/x-python",
   "name": "python",
   "nbconvert_exporter": "python",
   "pygments_lexer": "ipython3",
   "version": "3.7.6"
  }
 },
 "nbformat": 4,
 "nbformat_minor": 5
}
