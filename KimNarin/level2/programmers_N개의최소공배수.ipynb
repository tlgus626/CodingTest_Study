{
 "cells": [
  {
   "cell_type": "code",
   "execution_count": 3,
   "id": "0b83e8ce",
   "metadata": {},
   "outputs": [],
   "source": [
    "arr = [2,6,8,14]"
   ]
  },
  {
   "cell_type": "code",
   "execution_count": 1,
   "id": "333d5511",
   "metadata": {},
   "outputs": [
    {
     "ename": "SyntaxError",
     "evalue": "unexpected EOF while parsing (3550907743.py, line 3)",
     "output_type": "error",
     "traceback": [
      "\u001b[0;36m  Input \u001b[0;32mIn [1]\u001b[0;36m\u001b[0m\n\u001b[0;31m    for i in range(arr):\u001b[0m\n\u001b[0m                        ^\u001b[0m\n\u001b[0;31mSyntaxError\u001b[0m\u001b[0;31m:\u001b[0m unexpected EOF while parsing\n"
     ]
    }
   ],
   "source": [
    "max_num = max(arr)\n",
    "\n",
    "j=1\n",
    "for i in range(arr):\n",
    "    LCM_candi = max_num*j\n",
    "    if i == max_num:\n",
    "        break\n",
    "    if LCM_candi % i != 0:\n",
    "        j+=1\n",
    "        continue\n",
    "        \n",
    "    j+=1\n",
    "print()"
   ]
  },
  {
   "cell_type": "code",
   "execution_count": null,
   "id": "428f7ece",
   "metadata": {},
   "outputs": [],
   "source": []
  },
  {
   "cell_type": "code",
   "execution_count": 4,
   "id": "8a5e576d",
   "metadata": {},
   "outputs": [
    {
     "name": "stdout",
     "output_type": "stream",
     "text": [
      "168\n"
     ]
    }
   ],
   "source": [
    "max_num = max(arr)\n",
    "\n",
    "i=0\n",
    "j=1\n",
    "while i < len(arr):\n",
    "    arr_num = arr[i]\n",
    "    LCM_candi = max_num*j\n",
    "    if LCM_candi % arr_num != 0:\n",
    "        j+=1\n",
    "        i= 0\n",
    "    else:\n",
    "        i+=1\n",
    "print(LCM_candi)"
   ]
  },
  {
   "cell_type": "code",
   "execution_count": 5,
   "id": "fd4250a6",
   "metadata": {},
   "outputs": [
    {
     "data": {
      "text/plain": [
       "2"
      ]
     },
     "execution_count": 5,
     "metadata": {},
     "output_type": "execute_result"
    }
   ],
   "source": [
    "import math\n",
    "\n",
    "math.gcd(2, 2)"
   ]
  },
  {
   "cell_type": "code",
   "execution_count": null,
   "id": "ba6708ee",
   "metadata": {},
   "outputs": [],
   "source": []
  }
 ],
 "metadata": {
  "kernelspec": {
   "display_name": "Python 3 (ipykernel)",
   "language": "python",
   "name": "python3"
  },
  "language_info": {
   "codemirror_mode": {
    "name": "ipython",
    "version": 3
   },
   "file_extension": ".py",
   "mimetype": "text/x-python",
   "name": "python",
   "nbconvert_exporter": "python",
   "pygments_lexer": "ipython3",
   "version": "3.8.5"
  }
 },
 "nbformat": 4,
 "nbformat_minor": 5
}
