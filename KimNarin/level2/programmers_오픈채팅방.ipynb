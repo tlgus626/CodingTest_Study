{
 "cells": [
  {
   "cell_type": "code",
   "execution_count": 28,
   "id": "3a1ab6c9",
   "metadata": {},
   "outputs": [],
   "source": [
    "record = [\"Enter uid1234 Muzi\", \n",
    "          \"Enter uid4567 Prodo\",\n",
    "          \"Leave uid1234\",\n",
    "          \"Enter uid1234 Prodo\",\n",
    "          \"Change uid4567 Ryan\"]"
   ]
  },
  {
   "cell_type": "code",
   "execution_count": 33,
   "id": "4afa7233",
   "metadata": {},
   "outputs": [],
   "source": [
    "usr_dic = {}\n",
    "usr_status_lst =[]\n",
    "for i in range(len(record)):\n",
    "    r = record[i]\n",
    "    status= r.split(' ')[0]\n",
    "    usr_id = r.split(' ')[1]\n",
    "    if status == \"Leave\":\n",
    "        usr_status_lst.append([usr_id , \"님이 나갔습니다.\"])\n",
    "        continue\n",
    "    usr_nm = r.split(' ')[2]\n",
    "    if status == \"Enter\":\n",
    "            usr_dic[usr_id] = usr_nm\n",
    "            usr_status_lst.append([usr_id , \"님이 들어왔습니다.\"])\n",
    "    if status == \"Change\":\n",
    "        usr_dic[usr_id] = usr_nm"
   ]
  },
  {
   "cell_type": "code",
   "execution_count": 35,
   "id": "107cc09f",
   "metadata": {},
   "outputs": [],
   "source": [
    "usr_dic = {}\n",
    "usr_status_lst =[]\n",
    "for i in range(len(record)):\n",
    "    r = record[i]\n",
    "    status= r.split(' ')[0]\n",
    "    usr_id = r.split(' ')[1]\n",
    "    if status == \"Leave\":\n",
    "        usr_status_lst.append(usr_id + \"님이 나갔습니다.\")\n",
    "        continue\n",
    "    usr_nm = r.split(' ')[2]\n",
    "    if status == \"Enter\":\n",
    "            usr_dic[usr_id] = usr_nm\n",
    "            usr_status_lst.append(usr_id + \"님이 들어왔습니다.\")\n",
    "    if status == \"Change\":\n",
    "        usr_dic[usr_id] = usr_nm"
   ]
  },
  {
   "cell_type": "code",
   "execution_count": 34,
   "id": "ad8b2a87",
   "metadata": {},
   "outputs": [
    {
     "data": {
      "text/plain": [
       "['Prodo님이 들어왔습니다.', 'Ryan님이 들어왔습니다.', 'Prodo님이 나갔습니다.', 'Prodo님이 들어왔습니다.']"
      ]
     },
     "execution_count": 34,
     "metadata": {},
     "output_type": "execute_result"
    }
   ],
   "source": [
    "list(map(lambda x : usr_dic[x[0]]+x[1],usr_status_lst))"
   ]
  },
  {
   "cell_type": "code",
   "execution_count": 36,
   "id": "0db0a557",
   "metadata": {},
   "outputs": [
    {
     "data": {
      "text/plain": [
       "{'uid1234': 'Prodo', 'uid4567': 'Ryan'}"
      ]
     },
     "execution_count": 36,
     "metadata": {},
     "output_type": "execute_result"
    }
   ],
   "source": [
    "usr_dic"
   ]
  },
  {
   "cell_type": "code",
   "execution_count": 37,
   "id": "6f316f57",
   "metadata": {},
   "outputs": [
    {
     "data": {
      "text/plain": [
       "['uid1234님이 들어왔습니다.',\n",
       " 'uid4567님이 들어왔습니다.',\n",
       " 'uid1234님이 나갔습니다.',\n",
       " 'uid1234님이 들어왔습니다.']"
      ]
     },
     "execution_count": 37,
     "metadata": {},
     "output_type": "execute_result"
    }
   ],
   "source": [
    "usr_status_lst"
   ]
  },
  {
   "cell_type": "code",
   "execution_count": 38,
   "id": "55602a22",
   "metadata": {},
   "outputs": [
    {
     "data": {
      "text/plain": [
       "['Prodo님이 들어왔습니다.', 'Ryan님이 들어왔습니다.', 'Prodo님이 나갔습니다.', 'Prodo님이 들어왔습니다.']"
      ]
     },
     "execution_count": 38,
     "metadata": {},
     "output_type": "execute_result"
    }
   ],
   "source": [
    "import re as RR\n",
    "\n",
    "list(map(lambda x : RR.sub(\"uid[0-9]+\",usr_dic[x.split('님이')[0]],x),usr_status_lst))"
   ]
  },
  {
   "cell_type": "code",
   "execution_count": null,
   "id": "bf7ba794",
   "metadata": {},
   "outputs": [],
   "source": [
    "def solution(record):\n",
    "    usr_dic = {}\n",
    "    usr_status_lst =[]\n",
    "    for i in range(len(record)):\n",
    "        r = record[i]\n",
    "        status= r.split(' ')[0]\n",
    "        usr_id = r.split(' ')[1]\n",
    "        if status == \"Leave\":\n",
    "            usr_status_lst.append([usr_id , \"님이 나갔습니다.\"])\n",
    "            continue\n",
    "        usr_nm = r.split(' ')[2]\n",
    "        if status == \"Enter\":\n",
    "                usr_dic[usr_id] = usr_nm\n",
    "                usr_status_lst.append([usr_id , \"님이 들어왔습니다.\"])\n",
    "        if status == \"Change\":\n",
    "            usr_dic[usr_id] = usr_nm\n",
    "\n",
    "    return list(map(lambda x : usr_dic[x[0]]+x[1],usr_status_lst))"
   ]
  }
 ],
 "metadata": {
  "kernelspec": {
   "display_name": "Python 3 (ipykernel)",
   "language": "python",
   "name": "python3"
  },
  "language_info": {
   "codemirror_mode": {
    "name": "ipython",
    "version": 3
   },
   "file_extension": ".py",
   "mimetype": "text/x-python",
   "name": "python",
   "nbconvert_exporter": "python",
   "pygments_lexer": "ipython3",
   "version": "3.7.6"
  }
 },
 "nbformat": 4,
 "nbformat_minor": 5
}
