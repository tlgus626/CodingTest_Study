{
 "cells": [
  {
   "cell_type": "code",
   "execution_count": 88,
   "id": "1d72e7d0",
   "metadata": {},
   "outputs": [
    {
     "name": "stdout",
     "output_type": "stream",
     "text": [
      "AA  AA \n",
      "AAAA  \n",
      "['AA', 'AA']\n",
      "['AA', 'AA', 'AA']\n",
      "['AA', 'AA', 'AA', 'AA', 'AA']\n",
      "2 3\n",
      "['AA', 'AA', 'AA']\n",
      "['AA', 'AA']\n",
      "43690\n"
     ]
    }
   ],
   "source": [
    "import re\n",
    "\n",
    "str1= \"aa1+aa2\"\n",
    "str2 = \"AAAA12\"\n",
    "\n",
    "\n",
    "\n",
    "s1 = re.sub(r'[^a-zA-Z]',' ',str1).upper()\n",
    "s2 = re.sub(r'[^a-zA-Z]',' ',str2).upper()\n",
    "print(s1)\n",
    "print(s2)\n",
    "\n",
    "s1_lst=[]\n",
    "for i in range(len(s1)-1):\n",
    "    s = (s1[i]+s1[i+1]).strip(' ')\n",
    "    if len(s)!=2:\n",
    "        continue\n",
    "    else:\n",
    "        s1_lst.append(s)\n",
    "        \n",
    "s2_lst=[]        \n",
    "for i in range(len(s2)-1):\n",
    "    s = (s2[i]+s2[i+1]).strip(' ')\n",
    "    if len(s)!=2:\n",
    "        continue\n",
    "    else:\n",
    "        s2_lst.append(s)        \n",
    "\n",
    "print(s1_lst)\n",
    "print(s2_lst)\n",
    "\n",
    "U_lst = s1_lst + s2_lst\n",
    "I_lst = list()\n",
    "I_set = set(s1_lst) & set(s2_lst)\n",
    "\n",
    "print(U_lst)\n",
    "for i in list(I_set):\n",
    "    a = s1_lst.count(i)\n",
    "    b = s2_lst.count(i)\n",
    "    print(a,b)\n",
    "    \n",
    "    c = min(a,b)  \n",
    "    d = min(a,b)\n",
    "    while True:\n",
    "        U_lst.remove(i)\n",
    "        c-=1\n",
    "        if c==0:\n",
    "            break\n",
    "    I_lst.extend([i for _ in range(d)])\n",
    "    \n",
    "print(U_lst)  \n",
    "print(I_lst)\n",
    "try:\n",
    "    answer = (len(I_lst)/len(U_lst))*65536\n",
    "except:\n",
    "    answer = 65536\n",
    "    \n",
    "print(int(answer))"
   ]
  },
  {
   "cell_type": "code",
   "execution_count": 81,
   "id": "3bc048df",
   "metadata": {},
   "outputs": [
    {
     "data": {
      "text/plain": [
       "['AB', 'BC', 'AB', 'BB', 'BB']"
      ]
     },
     "execution_count": 81,
     "metadata": {},
     "output_type": "execute_result"
    }
   ],
   "source": [
    "U_lst.pop()"
   ]
  },
  {
   "cell_type": "code",
   "execution_count": 56,
   "id": "11533108",
   "metadata": {},
   "outputs": [],
   "source": [
    "s1_lst=[]\n",
    "for i in range(len(s1)-1):\n",
    "    s = (s1[i]+s1[i+1]).strip(' ')\n",
    "    if len(s)!=2:\n",
    "        continue\n",
    "    else:\n",
    "        s1_lst.append(s)"
   ]
  },
  {
   "cell_type": "code",
   "execution_count": 57,
   "id": "1247bf47",
   "metadata": {},
   "outputs": [
    {
     "data": {
      "text/plain": [
       "['AA', 'AA']"
      ]
     },
     "execution_count": 57,
     "metadata": {},
     "output_type": "execute_result"
    }
   ],
   "source": [
    "s1_lst"
   ]
  },
  {
   "cell_type": "code",
   "execution_count": 22,
   "id": "5839234e",
   "metadata": {},
   "outputs": [],
   "source": [
    "str1_set = []\n",
    "for i in range(len(s)-1):\n",
    "    str1_set.append(s[i]+s[i+1])\n",
    "\n",
    "\n",
    "    "
   ]
  },
  {
   "cell_type": "code",
   "execution_count": 24,
   "id": "8c5a3fd6",
   "metadata": {},
   "outputs": [
    {
     "data": {
      "text/plain": [
       "['EM', 'MC']"
      ]
     },
     "execution_count": 24,
     "metadata": {},
     "output_type": "execute_result"
    }
   ],
   "source": [
    "list(map(lambda i : s[i]+s[i+1], list(range(len(s)-1))))"
   ]
  },
  {
   "cell_type": "code",
   "execution_count": 30,
   "id": "cc6182d1",
   "metadata": {},
   "outputs": [],
   "source": [
    "a = set([1,1,2,2])"
   ]
  },
  {
   "cell_type": "code",
   "execution_count": 32,
   "id": "629bd79f",
   "metadata": {},
   "outputs": [
    {
     "data": {
      "text/plain": [
       "['__and__',\n",
       " '__class__',\n",
       " '__contains__',\n",
       " '__delattr__',\n",
       " '__dir__',\n",
       " '__doc__',\n",
       " '__eq__',\n",
       " '__format__',\n",
       " '__ge__',\n",
       " '__getattribute__',\n",
       " '__gt__',\n",
       " '__hash__',\n",
       " '__iand__',\n",
       " '__init__',\n",
       " '__init_subclass__',\n",
       " '__ior__',\n",
       " '__isub__',\n",
       " '__iter__',\n",
       " '__ixor__',\n",
       " '__le__',\n",
       " '__len__',\n",
       " '__lt__',\n",
       " '__ne__',\n",
       " '__new__',\n",
       " '__or__',\n",
       " '__rand__',\n",
       " '__reduce__',\n",
       " '__reduce_ex__',\n",
       " '__repr__',\n",
       " '__ror__',\n",
       " '__rsub__',\n",
       " '__rxor__',\n",
       " '__setattr__',\n",
       " '__sizeof__',\n",
       " '__str__',\n",
       " '__sub__',\n",
       " '__subclasshook__',\n",
       " '__xor__',\n",
       " 'add',\n",
       " 'clear',\n",
       " 'copy',\n",
       " 'difference',\n",
       " 'difference_update',\n",
       " 'discard',\n",
       " 'intersection',\n",
       " 'intersection_update',\n",
       " 'isdisjoint',\n",
       " 'issubset',\n",
       " 'issuperset',\n",
       " 'pop',\n",
       " 'remove',\n",
       " 'symmetric_difference',\n",
       " 'symmetric_difference_update',\n",
       " 'union',\n",
       " 'update']"
      ]
     },
     "execution_count": 32,
     "metadata": {},
     "output_type": "execute_result"
    }
   ],
   "source": [
    "dir(a)"
   ]
  },
  {
   "cell_type": "code",
   "execution_count": 36,
   "id": "0b9ac006",
   "metadata": {},
   "outputs": [],
   "source": [
    "a.add(3)"
   ]
  },
  {
   "cell_type": "code",
   "execution_count": 37,
   "id": "a23d3343",
   "metadata": {},
   "outputs": [
    {
     "data": {
      "text/plain": [
       "{1, 2, 3}"
      ]
     },
     "execution_count": 37,
     "metadata": {},
     "output_type": "execute_result"
    }
   ],
   "source": [
    "a"
   ]
  },
  {
   "cell_type": "code",
   "execution_count": null,
   "id": "b7190fd2",
   "metadata": {},
   "outputs": [],
   "source": []
  }
 ],
 "metadata": {
  "kernelspec": {
   "display_name": "Python 3 (ipykernel)",
   "language": "python",
   "name": "python3"
  },
  "language_info": {
   "codemirror_mode": {
    "name": "ipython",
    "version": 3
   },
   "file_extension": ".py",
   "mimetype": "text/x-python",
   "name": "python",
   "nbconvert_exporter": "python",
   "pygments_lexer": "ipython3",
   "version": "3.7.6"
  }
 },
 "nbformat": 4,
 "nbformat_minor": 5
}
