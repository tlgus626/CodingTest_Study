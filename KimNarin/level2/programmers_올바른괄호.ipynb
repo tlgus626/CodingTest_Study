{
 "cells": [
  {
   "cell_type": "code",
   "execution_count": 16,
   "id": "a0cbe243",
   "metadata": {},
   "outputs": [],
   "source": [
    "s = \"(())()\""
   ]
  },
  {
   "cell_type": "code",
   "execution_count": 17,
   "id": "38fd9474",
   "metadata": {},
   "outputs": [],
   "source": [
    "from collections import deque"
   ]
  },
  {
   "cell_type": "code",
   "execution_count": 20,
   "id": "995bebea",
   "metadata": {},
   "outputs": [
    {
     "name": "stdout",
     "output_type": "stream",
     "text": [
      "4 False\n"
     ]
    }
   ],
   "source": [
    "if s.startswith(')'):  \n",
    "    print('1' ,False)\n",
    "if len(s)==1:\n",
    "    print('2', False)\n",
    "if len(s)%2 !=0:\n",
    "    print('3', False)"
   ]
  },
  {
   "cell_type": "code",
   "execution_count": 19,
   "id": "c970f80e",
   "metadata": {},
   "outputs": [
    {
     "name": "stdout",
     "output_type": "stream",
     "text": [
      "True\n"
     ]
    }
   ],
   "source": [
    "queue = deque()\n",
    "for i in range(len(s)):\n",
    "    c = s[i]\n",
    "    if c == ')':\n",
    "        queue.pop()\n",
    "        continue\n",
    "    queue.append(c)\n",
    "    \n",
    "if len(queue)!= 0:\n",
    "    print(False)\n",
    "elif len(queue)==0:\n",
    "    print(True)\n",
    "\n"
   ]
  },
  {
   "cell_type": "code",
   "execution_count": 11,
   "id": "51177586",
   "metadata": {},
   "outputs": [
    {
     "data": {
      "text/plain": [
       "deque([')', ')'])"
      ]
     },
     "execution_count": 11,
     "metadata": {},
     "output_type": "execute_result"
    }
   ],
   "source": [
    "queue"
   ]
  },
  {
   "cell_type": "code",
   "execution_count": 3,
   "id": "8ad7f4a4",
   "metadata": {},
   "outputs": [
    {
     "data": {
      "text/plain": [
       "1"
      ]
     },
     "execution_count": 3,
     "metadata": {},
     "output_type": "execute_result"
    }
   ],
   "source": [
    "4%3"
   ]
  },
  {
   "cell_type": "code",
   "execution_count": 5,
   "id": "ab7f5ab4",
   "metadata": {},
   "outputs": [
    {
     "data": {
      "text/plain": [
       "2"
      ]
     },
     "execution_count": 5,
     "metadata": {},
     "output_type": "execute_result"
    }
   ],
   "source": [
    "s.count('(')"
   ]
  },
  {
   "cell_type": "code",
   "execution_count": null,
   "id": "cc025ba3",
   "metadata": {},
   "outputs": [],
   "source": []
  },
  {
   "cell_type": "code",
   "execution_count": null,
   "id": "dd9972a4",
   "metadata": {},
   "outputs": [],
   "source": []
  }
 ],
 "metadata": {
  "kernelspec": {
   "display_name": "Python 3 (ipykernel)",
   "language": "python",
   "name": "python3"
  },
  "language_info": {
   "codemirror_mode": {
    "name": "ipython",
    "version": 3
   },
   "file_extension": ".py",
   "mimetype": "text/x-python",
   "name": "python",
   "nbconvert_exporter": "python",
   "pygments_lexer": "ipython3",
   "version": "3.7.6"
  }
 },
 "nbformat": 4,
 "nbformat_minor": 5
}
