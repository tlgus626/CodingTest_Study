{
 "cells": [
  {
   "cell_type": "code",
   "execution_count": 45,
   "id": "55c3bee2",
   "metadata": {},
   "outputs": [],
   "source": [
    "phone_book = [\"119\", \"97674223\", \"1195524421\"]"
   ]
  },
  {
   "cell_type": "code",
   "execution_count": 46,
   "id": "39c016ae",
   "metadata": {},
   "outputs": [],
   "source": [
    "phone_book.sort()"
   ]
  },
  {
   "cell_type": "code",
   "execution_count": 47,
   "id": "858082f4",
   "metadata": {},
   "outputs": [
    {
     "data": {
      "text/plain": [
       "['119', '1195524421', '97674223']"
      ]
     },
     "execution_count": 47,
     "metadata": {},
     "output_type": "execute_result"
    }
   ],
   "source": [
    "phone_book"
   ]
  },
  {
   "cell_type": "code",
   "execution_count": 27,
   "id": "496e71e9",
   "metadata": {},
   "outputs": [],
   "source": [
    "phone_book_sort  = phone_book.copy()"
   ]
  },
  {
   "cell_type": "code",
   "execution_count": 28,
   "id": "fd675c5d",
   "metadata": {},
   "outputs": [],
   "source": [
    "a = phone_book_sort.pop(0)"
   ]
  },
  {
   "cell_type": "code",
   "execution_count": 29,
   "id": "4324b20d",
   "metadata": {},
   "outputs": [
    {
     "data": {
      "text/plain": [
       "True"
      ]
     },
     "execution_count": 29,
     "metadata": {},
     "output_type": "execute_result"
    }
   ],
   "source": [
    "s = '-' + '-'.join(phone_book_sort)\n",
    "\n",
    "'-' + a in s"
   ]
  },
  {
   "cell_type": "code",
   "execution_count": 30,
   "id": "38aad08c",
   "metadata": {},
   "outputs": [
    {
     "data": {
      "text/plain": [
       "'-1195524421-97674223'"
      ]
     },
     "execution_count": 30,
     "metadata": {},
     "output_type": "execute_result"
    }
   ],
   "source": [
    "while True:\n",
    "    a = phone_book_sort.pop(0)\n",
    "    \n",
    "    s = '-' + '-'.join(phone_book_sort)\n",
    "    \n",
    "    if '-' + a in s:\n",
    "        return True\n"
   ]
  },
  {
   "cell_type": "code",
   "execution_count": 31,
   "id": "58ebef14",
   "metadata": {},
   "outputs": [],
   "source": [
    "lst =[]"
   ]
  },
  {
   "cell_type": "code",
   "execution_count": 44,
   "id": "f78fe861",
   "metadata": {},
   "outputs": [
    {
     "name": "stdout",
     "output_type": "stream",
     "text": [
      "119 1195524421\n",
      "1195524421 97674223\n"
     ]
    }
   ],
   "source": [
    "a = phone_book[0:]\n",
    "b = phone_book[1:]\n",
    "for i,j in zip(phone_book,phone_book[1:]):\n",
    "    print(i,j)"
   ]
  },
  {
   "cell_type": "code",
   "execution_count": 41,
   "id": "ef8f4cda",
   "metadata": {},
   "outputs": [
    {
     "data": {
      "text/plain": [
       "['1195524421', '97674223']"
      ]
     },
     "execution_count": 41,
     "metadata": {},
     "output_type": "execute_result"
    }
   ],
   "source": [
    "b"
   ]
  },
  {
   "cell_type": "code",
   "execution_count": 42,
   "id": "fd3a3447",
   "metadata": {},
   "outputs": [
    {
     "data": {
      "text/plain": [
       "['119', '1195524421', '97674223']"
      ]
     },
     "execution_count": 42,
     "metadata": {},
     "output_type": "execute_result"
    }
   ],
   "source": [
    "a"
   ]
  },
  {
   "cell_type": "code",
   "execution_count": 43,
   "id": "3a22639c",
   "metadata": {},
   "outputs": [],
   "source": [
    "def solution(phone_book):\n",
    "    \n",
    "    phone_book.sort()\n",
    "    \n",
    "    \n",
    "    for i,j in zip(phone_book,phone_book[1:]):\n",
    "        print(i,j)\n",
    "        if j.startswith(i):\n",
    "            return False\n",
    "    return True\n",
    "    \n",
    "#     while True:\n",
    "#         try:\n",
    "#             a =  phone_book_sort.pop(0)\n",
    "#         except:\n",
    "#             return True\n",
    "    \n",
    "#         s = '-' + '-'.join(phone_book_sort)\n",
    "    \n",
    "#         if '-' + a in s:\n",
    "#             return False\n",
    "        \n"
   ]
  },
  {
   "cell_type": "code",
   "execution_count": null,
   "id": "811cd7f8",
   "metadata": {},
   "outputs": [],
   "source": [
    "def solution(phone_book):\n",
    "    if len(phone_book)==1:\n",
    "        return True\n",
    "    \n",
    "    phone_book.sort()\n",
    "    \n",
    "    # phone_book_sort  = phone_book.copy()\n",
    "    \n",
    "    a = phone_book[0:]\n",
    "    b = phone_book[1:]\n",
    "    b.append('end')\n",
    "    for i,j in zip(a,b):\n",
    "        if j=='end':\n",
    "            return True\n",
    "        if j.startswith(i):\n",
    "            return False\n",
    "    \n",
    "#     while True:\n",
    "#         try:\n",
    "#             a =  phone_book_sort.pop(0)\n",
    "#         except:\n",
    "#             return True\n",
    "    \n",
    "#         s = '-' + '-'.join(phone_book_sort)\n",
    "    \n",
    "#         if '-' + a in s:\n",
    "#             return False\n",
    "        \n"
   ]
  }
 ],
 "metadata": {
  "kernelspec": {
   "display_name": "Python 3 (ipykernel)",
   "language": "python",
   "name": "python3"
  },
  "language_info": {
   "codemirror_mode": {
    "name": "ipython",
    "version": 3
   },
   "file_extension": ".py",
   "mimetype": "text/x-python",
   "name": "python",
   "nbconvert_exporter": "python",
   "pygments_lexer": "ipython3",
   "version": "3.7.6"
  }
 },
 "nbformat": 4,
 "nbformat_minor": 5
}
