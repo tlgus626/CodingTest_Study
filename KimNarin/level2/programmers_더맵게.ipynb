{
 "cells": [
  {
   "cell_type": "code",
   "execution_count": 24,
   "id": "b75c3717",
   "metadata": {},
   "outputs": [],
   "source": [
    "import heapq"
   ]
  },
  {
   "cell_type": "code",
   "execution_count": 25,
   "id": "4ec0054e",
   "metadata": {},
   "outputs": [],
   "source": [
    "scoville = [1, 2, 3, 9, 10, 12]"
   ]
  },
  {
   "cell_type": "code",
   "execution_count": 26,
   "id": "de2a0ed6",
   "metadata": {},
   "outputs": [],
   "source": [
    "K = 7"
   ]
  },
  {
   "cell_type": "code",
   "execution_count": 27,
   "id": "93735683",
   "metadata": {},
   "outputs": [],
   "source": [
    "heapq.heapify(scoville)"
   ]
  },
  {
   "cell_type": "code",
   "execution_count": 28,
   "id": "fbb1a66f",
   "metadata": {},
   "outputs": [
    {
     "data": {
      "text/plain": [
       "[1, 2, 3, 9, 10, 12]"
      ]
     },
     "execution_count": 28,
     "metadata": {},
     "output_type": "execute_result"
    }
   ],
   "source": [
    "scoville"
   ]
  },
  {
   "cell_type": "code",
   "execution_count": 29,
   "id": "f1c5012c",
   "metadata": {},
   "outputs": [],
   "source": [
    "answer = 0\n",
    "while True:\n",
    "    c1 = heapq.heappop(scoville)\n",
    "    c2 = heapq.heappop(scoville)\n",
    "    \n",
    "    c_new = c1 + (c2*2)\n",
    "    \n",
    "    answer +=1\n",
    "    \n",
    "    heapq.heappush(scoville,c_new)\n",
    "    \n",
    "    if scoville[0] > K:\n",
    "        break"
   ]
  },
  {
   "cell_type": "code",
   "execution_count": 30,
   "id": "7f65ba0f",
   "metadata": {},
   "outputs": [
    {
     "data": {
      "text/plain": [
       "[9, 12, 10, 13]"
      ]
     },
     "execution_count": 30,
     "metadata": {},
     "output_type": "execute_result"
    }
   ],
   "source": [
    "scoville"
   ]
  },
  {
   "cell_type": "code",
   "execution_count": 31,
   "id": "661db212",
   "metadata": {},
   "outputs": [
    {
     "data": {
      "text/plain": [
       "2"
      ]
     },
     "execution_count": 31,
     "metadata": {},
     "output_type": "execute_result"
    }
   ],
   "source": [
    "answer"
   ]
  },
  {
   "cell_type": "code",
   "execution_count": null,
   "id": "06268990",
   "metadata": {},
   "outputs": [],
   "source": [
    "import heapq\n",
    "\n",
    "def solution(scoville, K):\n",
    "    \n",
    "    if (scoville.count(0)==len(scoville)) and K!=0:\n",
    "        return -1\n",
    "    \n",
    "    heapq.heapify(scoville)\n",
    "    \n",
    "    \n",
    "    answer = 0\n",
    "    if K==0:\n",
    "        return answer\n",
    "    \n",
    "    if scoville[0] => K:\n",
    "        return answer\n",
    "    \n",
    "    while True:\n",
    "        \n",
    "        if len(scoville)==1:\n",
    "            if scoville[0] < K:\n",
    "                return -1\n",
    "        c1 = heapq.heappop(scoville)\n",
    "        c2 = heapq.heappop(scoville)\n",
    "\n",
    "        c_new = c1 + (c2*2)\n",
    "\n",
    "        answer +=1\n",
    "\n",
    "        heapq.heappush(scoville,c_new)\n",
    "\n",
    "        if scoville[0] => K:\n",
    "            break\n",
    "    return answer"
   ]
  }
 ],
 "metadata": {
  "kernelspec": {
   "display_name": "Python 3 (ipykernel)",
   "language": "python",
   "name": "python3"
  },
  "language_info": {
   "codemirror_mode": {
    "name": "ipython",
    "version": 3
   },
   "file_extension": ".py",
   "mimetype": "text/x-python",
   "name": "python",
   "nbconvert_exporter": "python",
   "pygments_lexer": "ipython3",
   "version": "3.7.6"
  }
 },
 "nbformat": 4,
 "nbformat_minor": 5
}
