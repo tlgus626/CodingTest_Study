{
 "cells": [
  {
   "cell_type": "code",
   "execution_count": 119,
   "id": "418155be",
   "metadata": {},
   "outputs": [],
   "source": [
    "s = \"a\""
   ]
  },
  {
   "cell_type": "code",
   "execution_count": 56,
   "id": "3219715e",
   "metadata": {},
   "outputs": [],
   "source": [
    "k = 4\n",
    "s_lst = [s[i:i+k] for i in range(0,len(s),k)]"
   ]
  },
  {
   "cell_type": "code",
   "execution_count": 75,
   "id": "3d3d7cbd",
   "metadata": {},
   "outputs": [
    {
     "data": {
      "text/plain": [
       "16"
      ]
     },
     "execution_count": 75,
     "metadata": {},
     "output_type": "execute_result"
    }
   ],
   "source": [
    "len(s)"
   ]
  },
  {
   "cell_type": "code",
   "execution_count": 37,
   "id": "9ca1e91c",
   "metadata": {
    "scrolled": true
   },
   "outputs": [
    {
     "name": "stdout",
     "output_type": "stream",
     "text": [
      "시작 i : 0 , j : 1 , n : 1\n",
      "same a a\n",
      "시작 i : 0 , j : 2 , n : 2\n",
      "a b\n",
      "2a\n",
      "시작 i : 2 , j : 3 , n : 1\n",
      "same b b\n",
      "시작 i : 2 , j : 4 , n : 2\n",
      "b a\n",
      "2a2b\n",
      "시작 i : 4 , j : 5 , n : 1\n",
      "a c\n",
      "2a2b1a\n",
      "시작 i : 5 , j : 6 , n : 1\n",
      "same c c\n",
      "시작 i : 5 , j : 7 , n : 2\n",
      "same c c\n",
      "시작 i : 5 , j : 8 , n : 3\n"
     ]
    }
   ],
   "source": [
    "i= 0\n",
    "j= 1\n",
    "n = 1\n",
    "s_new=''\n",
    "while True:\n",
    "    print('시작 i : {} , j : {} , n : {}'.format(i,j,n))\n",
    "    if j==len(s_lst):\n",
    "        s_new = s_new + str(n)+s_lst[i]\n",
    "        break\n",
    "\n",
    "    if s_lst[i]==s_lst[j]:\n",
    "        print('same' ,s_lst[i],s_lst[j])\n",
    "        n +=1\n",
    "        j +=1\n",
    "    elif s_lst[i]!=s_lst[j]:\n",
    "        print(s_lst[i],s_lst[j])\n",
    "        s_new = s_new + str(n)+s_lst[i]\n",
    "        print(s_new)\n",
    "        n = 1 \n",
    "        i=j   # j번부터 다시 찾기 (i에 할당)\n",
    "        j=j+1 # j는 하나 옆칸 "
   ]
  },
  {
   "cell_type": "code",
   "execution_count": 125,
   "id": "4e184dce",
   "metadata": {},
   "outputs": [],
   "source": [
    "ret_lst=[]\n",
    "ret_s_lst=[]\n",
    "s = \"a\"\n",
    "for k in range(1,len(s)//2+1):\n",
    "    print(k)\n",
    "    s_lst = [s[i:i+k] for i in range(0,len(s),k)]\n",
    "    print(s_lst)\n",
    "    i= 0\n",
    "    j= 1\n",
    "    n = 1\n",
    "    s_new=''\n",
    "    while True:\n",
    "        print('시작 i : {} , j : {} , n : {}'.format(i,j,n))\n",
    "        if j==len(s_lst):\n",
    "            if n == 1:\n",
    "                s_new = s_new +s_lst[i]\n",
    "                print(s_lst[i],s_lst[j])\n",
    "            else:\n",
    "                s_new = s_new + str(n)+s_lst[i]\n",
    "            break\n",
    "\n",
    "        if s_lst[i]==s_lst[j]:\n",
    "            print('same' ,s_lst[i],s_lst[j])\n",
    "            n +=1\n",
    "            j +=1\n",
    "        elif s_lst[i]!=s_lst[j]:\n",
    "            if n == 1:\n",
    "                s_new = s_new +s_lst[i]\n",
    "                print(s_lst[i],s_lst[j])\n",
    "            else:\n",
    "                s_new = s_new + str(n)+s_lst[i]\n",
    "                print(s_new)\n",
    "            n = 1 \n",
    "            i=j   # j번부터 다시 찾기 (i에 할당)\n",
    "            j=j+1 # j는 하나 옆칸\n",
    "    s_new = s_new.replace('1.','')\n",
    "    ret_s_lst.append(s_new)\n",
    "    ret_lst.append(len(s_new))\n",
    "    \n",
    "    \n",
    "# min(ret_lst)"
   ]
  },
  {
   "cell_type": "code",
   "execution_count": 124,
   "id": "b908c8fd",
   "metadata": {},
   "outputs": [
    {
     "data": {
      "text/plain": [
       "['xababcdc', 'dababcdc', 'd']"
      ]
     },
     "execution_count": 124,
     "metadata": {},
     "output_type": "execute_result"
    }
   ],
   "source": [
    "s_lst"
   ]
  },
  {
   "cell_type": "code",
   "execution_count": 127,
   "id": "77f3bfbf",
   "metadata": {},
   "outputs": [
    {
     "data": {
      "text/plain": [
       "''"
      ]
     },
     "execution_count": 127,
     "metadata": {},
     "output_type": "execute_result"
    }
   ],
   "source": [
    "a = 'xababcdc'\n",
    "\n",
    "a[1:1]"
   ]
  },
  {
   "cell_type": "code",
   "execution_count": 128,
   "id": "60857db0",
   "metadata": {},
   "outputs": [],
   "source": [
    "for k in range(1,1):\n",
    "    print(k)"
   ]
  },
  {
   "cell_type": "code",
   "execution_count": null,
   "id": "36928c44",
   "metadata": {},
   "outputs": [],
   "source": []
  }
 ],
 "metadata": {
  "kernelspec": {
   "display_name": "Python 3 (ipykernel)",
   "language": "python",
   "name": "python3"
  },
  "language_info": {
   "codemirror_mode": {
    "name": "ipython",
    "version": 3
   },
   "file_extension": ".py",
   "mimetype": "text/x-python",
   "name": "python",
   "nbconvert_exporter": "python",
   "pygments_lexer": "ipython3",
   "version": "3.7.6"
  }
 },
 "nbformat": 4,
 "nbformat_minor": 5
}
