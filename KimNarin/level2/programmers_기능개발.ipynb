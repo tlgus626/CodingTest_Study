{
 "cells": [
  {
   "cell_type": "code",
   "execution_count": 2,
   "id": "83c7c3ee",
   "metadata": {},
   "outputs": [],
   "source": [
    "from collections import deque\n",
    "\n",
    "progresses1 = [93, 30, 55]\n",
    "speeds1 = [1, 30, 5]\n",
    "\n",
    "progresses2 = [95, 90, 99, 99, 80, 99]\n",
    "speeds2 = [1, 1, 1, 1, 1, 1]"
   ]
  },
  {
   "cell_type": "code",
   "execution_count": null,
   "id": "792d9452",
   "metadata": {},
   "outputs": [],
   "source": [
    "from collections import deque\n",
    "\n",
    "complete=[]\n",
    "day = 1\n",
    "for i in range(len(progresses1)):\n",
    "    progresses1[i] = progresses1[i] + speeds1[i]\n",
    "    day +=1\n",
    "    if progresses1[i]>=100:\n",
    "        complete.append(day)\n",
    "        progresses1[i]=\"complete\"\n",
    "    elif progresses1[i]=\"complete\":\n",
    "        continue\n",
    "    if len(complete)>1:\n",
    "        if "
   ]
  },
  {
   "cell_type": "code",
   "execution_count": 18,
   "id": "e098ae4c",
   "metadata": {},
   "outputs": [],
   "source": [
    "a = [1,\"d\",3]"
   ]
  },
  {
   "cell_type": "code",
   "execution_count": 19,
   "id": "3b6441b9",
   "metadata": {},
   "outputs": [
    {
     "data": {
      "text/plain": [
       "3"
      ]
     },
     "execution_count": 19,
     "metadata": {},
     "output_type": "execute_result"
    }
   ],
   "source": [
    "a.pop()"
   ]
  },
  {
   "cell_type": "code",
   "execution_count": 17,
   "id": "e1d70ecc",
   "metadata": {},
   "outputs": [
    {
     "data": {
      "text/plain": [
       "[1, 2, 4]"
      ]
     },
     "execution_count": 17,
     "metadata": {},
     "output_type": "execute_result"
    }
   ],
   "source": [
    "a"
   ]
  },
  {
   "cell_type": "code",
   "execution_count": 8,
   "id": "35abaafe",
   "metadata": {},
   "outputs": [],
   "source": [
    "import math\n",
    "from collections import deque\n",
    "\n",
    "queue = deque()\n",
    "answerlst=[]\n",
    "cnt=0\n",
    "for i, j in zip(progresses1,speeds1):\n",
    "    remain = math.ceil((100-i)/j)\n",
    "    \n",
    "    queue.append(remain)\n",
    "    \n",
    "\n",
    "c =queue[0]\n",
    "queue.popleft()\n",
    "cnt=1\n",
    "while queue:\n",
    "    if queue[0] <= c:\n",
    "        queue.popleft()\n",
    "        cnt+=1\n",
    "    else:\n",
    "        c = queue[0]\n",
    "        queue.popleft()\n",
    "        answerlst.append(cnt)\n",
    "        cnt =1\n",
    "        \n",
    "answerlst.append(cnt)"
   ]
  },
  {
   "cell_type": "code",
   "execution_count": 9,
   "id": "f2823568",
   "metadata": {},
   "outputs": [
    {
     "data": {
      "text/plain": [
       "[2, 1]"
      ]
     },
     "execution_count": 9,
     "metadata": {},
     "output_type": "execute_result"
    }
   ],
   "source": [
    "answerlst"
   ]
  },
  {
   "cell_type": "code",
   "execution_count": 13,
   "id": "81932df6",
   "metadata": {},
   "outputs": [
    {
     "name": "stdout",
     "output_type": "stream",
     "text": [
      "3\n",
      "2\n",
      "1\n"
     ]
    }
   ],
   "source": [
    "a = list([1,2,3])\n",
    "\n",
    "while a:\n",
    "    b = a.pop()\n",
    "    print(b)"
   ]
  },
  {
   "cell_type": "code",
   "execution_count": 14,
   "id": "d315d621",
   "metadata": {},
   "outputs": [
    {
     "data": {
      "text/plain": [
       "[]"
      ]
     },
     "execution_count": 14,
     "metadata": {},
     "output_type": "execute_result"
    }
   ],
   "source": [
    "a"
   ]
  },
  {
   "cell_type": "code",
   "execution_count": null,
   "id": "09d7f966",
   "metadata": {},
   "outputs": [],
   "source": []
  }
 ],
 "metadata": {
  "kernelspec": {
   "display_name": "Python 3 (ipykernel)",
   "language": "python",
   "name": "python3"
  },
  "language_info": {
   "codemirror_mode": {
    "name": "ipython",
    "version": 3
   },
   "file_extension": ".py",
   "mimetype": "text/x-python",
   "name": "python",
   "nbconvert_exporter": "python",
   "pygments_lexer": "ipython3",
   "version": "3.8.5"
  }
 },
 "nbformat": 4,
 "nbformat_minor": 5
}
