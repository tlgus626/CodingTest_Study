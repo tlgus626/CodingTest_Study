{
 "cells": [
  {
   "cell_type": "code",
   "execution_count": 48,
   "id": "8b3a2aff",
   "metadata": {},
   "outputs": [],
   "source": [
    "numbers =[3, 30, 34, 5, 9]\n",
    "\n",
    "from itertools import permutations"
   ]
  },
  {
   "cell_type": "code",
   "execution_count": 7,
   "id": "c5f9d429",
   "metadata": {},
   "outputs": [],
   "source": [
    "all_ = list(permutations(numbers, len(numbers)))"
   ]
  },
  {
   "cell_type": "code",
   "execution_count": 6,
   "id": "b93b1bdc",
   "metadata": {},
   "outputs": [],
   "source": [
    "numbers.sort(key = lambda x : x*3 , reverse=True)"
   ]
  },
  {
   "cell_type": "code",
   "execution_count": 50,
   "id": "3ebaad99",
   "metadata": {},
   "outputs": [],
   "source": [
    "new = list(map(str, numbers))"
   ]
  },
  {
   "cell_type": "code",
   "execution_count": 39,
   "id": "692edced",
   "metadata": {},
   "outputs": [],
   "source": [
    "new = list(map(lambda x:str(x), numbers))"
   ]
  },
  {
   "cell_type": "code",
   "execution_count": 51,
   "id": "034a0d31",
   "metadata": {},
   "outputs": [
    {
     "data": {
      "text/plain": [
       "['3', '30', '34', '5', '9']"
      ]
     },
     "execution_count": 51,
     "metadata": {},
     "output_type": "execute_result"
    }
   ],
   "source": [
    "new"
   ]
  },
  {
   "cell_type": "code",
   "execution_count": 58,
   "id": "dcf56624",
   "metadata": {},
   "outputs": [
    {
     "ename": "TypeError",
     "evalue": "ord() expected a character, but string of length 3 found",
     "output_type": "error",
     "traceback": [
      "\u001b[0;31m---------------------------------------------------------------------------\u001b[0m",
      "\u001b[0;31mTypeError\u001b[0m                                 Traceback (most recent call last)",
      "\u001b[0;32m/tmp/ipykernel_5184/1705376152.py\u001b[0m in \u001b[0;36m<module>\u001b[0;34m\u001b[0m\n\u001b[1;32m      1\u001b[0m \u001b[0ma\u001b[0m  \u001b[0;34m=\u001b[0m \u001b[0;34m'999'\u001b[0m\u001b[0;34m\u001b[0m\u001b[0;34m\u001b[0m\u001b[0m\n\u001b[0;32m----> 2\u001b[0;31m \u001b[0mord\u001b[0m\u001b[0;34m(\u001b[0m\u001b[0ma\u001b[0m\u001b[0;34m)\u001b[0m\u001b[0;34m\u001b[0m\u001b[0;34m\u001b[0m\u001b[0m\n\u001b[0m",
      "\u001b[0;31mTypeError\u001b[0m: ord() expected a character, but string of length 3 found"
     ]
    }
   ],
   "source": [
    "a  = '999'\n",
    "ord(a)"
   ]
  },
  {
   "cell_type": "code",
   "execution_count": 54,
   "id": "d7be00a1",
   "metadata": {},
   "outputs": [
    {
     "data": {
      "text/plain": [
       "'303030'"
      ]
     },
     "execution_count": 54,
     "metadata": {},
     "output_type": "execute_result"
    }
   ],
   "source": [
    "'30'*3"
   ]
  },
  {
   "cell_type": "code",
   "execution_count": 28,
   "id": "71be805f",
   "metadata": {},
   "outputs": [
    {
     "data": {
      "text/plain": [
       "'6210'"
      ]
     },
     "execution_count": 28,
     "metadata": {},
     "output_type": "execute_result"
    }
   ],
   "source": [
    "str(sorted([int(''.join(list(map(lambda x: ''.join(x), permutations(new, len(new)))))], reverse=True)[0])"
   ]
  },
  {
   "cell_type": "code",
   "execution_count": 11,
   "id": "b30c7cdf",
   "metadata": {},
   "outputs": [
    {
     "data": {
      "text/plain": [
       "'0'"
      ]
     },
     "execution_count": 11,
     "metadata": {},
     "output_type": "execute_result"
    }
   ],
   "source": [
    "str(sorted(list(map(lambda x: int(''.join(x)), permutations(new, len(new)))),  reverse=True)[0])"
   ]
  },
  {
   "cell_type": "code",
   "execution_count": 46,
   "id": "0e518d31",
   "metadata": {},
   "outputs": [
    {
     "data": {
      "text/plain": [
       "True"
      ]
     },
     "execution_count": 46,
     "metadata": {},
     "output_type": "execute_result"
    }
   ],
   "source": [
    "'232' > '23'"
   ]
  },
  {
   "cell_type": "code",
   "execution_count": null,
   "id": "3a53f217",
   "metadata": {},
   "outputs": [],
   "source": [
    "str(sorted([int(''.join(list(map(lambda x: str(x), i)))) for i in all_], reverse=True)[0])"
   ]
  },
  {
   "cell_type": "code",
   "execution_count": 40,
   "id": "d6822408",
   "metadata": {},
   "outputs": [
    {
     "name": "stdout",
     "output_type": "stream",
     "text": [
      "[[1, 2, 3], [1, 2, 4], [1, 3, 4], [2, 3, 4]]\n"
     ]
    }
   ],
   "source": [
    "l = [1, 2, 3, 4]\n",
    "n = len(l)\n",
    "r = 3\n",
    "answer = []\n",
    "\n",
    "def dfs(idx, list):\n",
    "    if len(list) == r:\n",
    "        answer.append(list[:])\n",
    "        return\n",
    "\n",
    "    for i in range(idx, n):\n",
    "        dfs(i+1,list+[l[i]])\n",
    "\n",
    "dfs(0, [])\n",
    "print(answer)"
   ]
  },
  {
   "cell_type": "code",
   "execution_count": null,
   "id": "26bc55c2",
   "metadata": {},
   "outputs": [],
   "source": [
    "from itertools import permutations\n",
    "def solution(numbers):\n",
    "    new = list(map(lambda x:str(x), numbers))\n",
    "    \n",
    "    return str(sorted(list(map(lambda x: int(''.join(x)), permutations(new, len(new)))),  reverse=True)[0])"
   ]
  },
  {
   "cell_type": "code",
   "execution_count": null,
   "id": "4a0b267a",
   "metadata": {},
   "outputs": [],
   "source": [
    "def solution(num):\n",
    "    \n",
    "    num = list(map(str, num))\n",
    "    num.sort(key = lambda x : x*3, reverse = True)\n",
    "    \n",
    "    return str(int(''.join(num)))"
   ]
  },
  {
   "cell_type": "code",
   "execution_count": 59,
   "id": "29cd7580",
   "metadata": {},
   "outputs": [
    {
     "data": {
      "text/plain": [
       "False"
      ]
     },
     "execution_count": 59,
     "metadata": {},
     "output_type": "execute_result"
    }
   ],
   "source": [
    "'303030'> '333'"
   ]
  },
  {
   "cell_type": "code",
   "execution_count": null,
   "id": "3a12e501",
   "metadata": {},
   "outputs": [],
   "source": []
  }
 ],
 "metadata": {
  "kernelspec": {
   "display_name": "Python 3 (ipykernel)",
   "language": "python",
   "name": "python3"
  },
  "language_info": {
   "codemirror_mode": {
    "name": "ipython",
    "version": 3
   },
   "file_extension": ".py",
   "mimetype": "text/x-python",
   "name": "python",
   "nbconvert_exporter": "python",
   "pygments_lexer": "ipython3",
   "version": "3.7.6"
  }
 },
 "nbformat": 4,
 "nbformat_minor": 5
}
