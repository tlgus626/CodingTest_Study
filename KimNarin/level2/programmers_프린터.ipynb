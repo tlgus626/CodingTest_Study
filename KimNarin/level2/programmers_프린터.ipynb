{
 "cells": [
  {
   "cell_type": "code",
   "execution_count": 88,
   "id": "695797fc",
   "metadata": {},
   "outputs": [],
   "source": [
    "priorities = [2, 1, 3, 2]\n",
    "location = 2\n",
    "\n",
    "from collections import deque"
   ]
  },
  {
   "cell_type": "code",
   "execution_count": 89,
   "id": "3c9938af",
   "metadata": {},
   "outputs": [],
   "source": [
    "print_que_loc = deque(range(len(priorities)))\n",
    "print_que_imp = deque(priorities)"
   ]
  },
  {
   "cell_type": "code",
   "execution_count": 87,
   "id": "cd321f07",
   "metadata": {},
   "outputs": [],
   "source": [
    "queue =  deque([(i,j) for i,j in enumerate(priorities)])"
   ]
  },
  {
   "cell_type": "code",
   "execution_count": null,
   "id": "d774faea",
   "metadata": {},
   "outputs": [],
   "source": []
  },
  {
   "cell_type": "code",
   "execution_count": 81,
   "id": "076eea06",
   "metadata": {},
   "outputs": [],
   "source": [
    "print_new_lst=[]\n",
    "while True:\n",
    "    c1 = print_que_imp.popleft()\n",
    "    c2 = print_que_loc.popleft()\n",
    "    if len(print_que_imp)==0:\n",
    "        print_new_lst.append(c2)\n",
    "        break\n",
    "    if max(print_que_imp) > c1:\n",
    "        print_que_imp.append(c1)\n",
    "        print_que_loc.append(c2)\n",
    "    else:\n",
    "        print_new_lst.append(c2)      "
   ]
  },
  {
   "cell_type": "code",
   "execution_count": 90,
   "id": "618a4ee6",
   "metadata": {},
   "outputs": [],
   "source": [
    "answer=0\n",
    "while True:\n",
    "    c1 = print_que_imp.popleft()\n",
    "    c2 = print_que_loc.popleft()\n",
    "    if len(print_que_imp)==0:\n",
    "        print_new_lst.append(c2)\n",
    "        break\n",
    "    if max(print_que_imp) > c1:\n",
    "        print_que_imp.append(c1)\n",
    "        print_que_loc.append(c2)\n",
    "    else:\n",
    "        answer+=1\n",
    "        if c2==location:\n",
    "            break"
   ]
  },
  {
   "cell_type": "code",
   "execution_count": 84,
   "id": "1d8c17bb",
   "metadata": {},
   "outputs": [
    {
     "data": {
      "text/plain": [
       "1"
      ]
     },
     "execution_count": 84,
     "metadata": {},
     "output_type": "execute_result"
    }
   ],
   "source": [
    "print_new_lst.index(2) +1"
   ]
  },
  {
   "cell_type": "code",
   "execution_count": 91,
   "id": "7eddb7d2",
   "metadata": {},
   "outputs": [
    {
     "data": {
      "text/plain": [
       "1"
      ]
     },
     "execution_count": 91,
     "metadata": {},
     "output_type": "execute_result"
    }
   ],
   "source": [
    "answer"
   ]
  },
  {
   "cell_type": "code",
   "execution_count": 59,
   "id": "c1061b2d",
   "metadata": {},
   "outputs": [],
   "source": [
    "c1 = print_que1.popleft()\n",
    "c2 = print_que.popleft()\n",
    "if max(print_que1) > c1:\n",
    "    print_que1.append(c1)\n",
    "    print_que.append(c2)"
   ]
  },
  {
   "cell_type": "code",
   "execution_count": 60,
   "id": "3344b82a",
   "metadata": {},
   "outputs": [
    {
     "data": {
      "text/plain": [
       "deque([1, 3, 2, 2])"
      ]
     },
     "execution_count": 60,
     "metadata": {},
     "output_type": "execute_result"
    }
   ],
   "source": [
    "print_que1"
   ]
  },
  {
   "cell_type": "code",
   "execution_count": 50,
   "id": "e3d0f4fc",
   "metadata": {},
   "outputs": [
    {
     "data": {
      "text/plain": [
       "2"
      ]
     },
     "execution_count": 50,
     "metadata": {},
     "output_type": "execute_result"
    }
   ],
   "source": [
    "c1"
   ]
  },
  {
   "cell_type": "code",
   "execution_count": 20,
   "id": "10cbe26c",
   "metadata": {},
   "outputs": [],
   "source": [
    "a.append(5)"
   ]
  },
  {
   "cell_type": "code",
   "execution_count": 23,
   "id": "1da34f8d",
   "metadata": {},
   "outputs": [
    {
     "data": {
      "text/plain": [
       "0"
      ]
     },
     "execution_count": 23,
     "metadata": {},
     "output_type": "execute_result"
    }
   ],
   "source": [
    "priorities.index(2)"
   ]
  },
  {
   "cell_type": "code",
   "execution_count": null,
   "id": "871822aa",
   "metadata": {},
   "outputs": [],
   "source": [
    "from collections import deque\n",
    "def solution(priorities, location):\n",
    "    print_que_loc = deque(range(len(priorities)))\n",
    "    print_que_imp = deque(priorities)\n",
    "    \n",
    "    print_new_lst=[]\n",
    "    while True:\n",
    "        c1 = print_que_imp.popleft()\n",
    "        c2 = print_que_loc.popleft()\n",
    "        if len(print_que_imp)==0:\n",
    "            print_new_lst.append(c2)\n",
    "            break\n",
    "        if max(print_que_imp) > c1:\n",
    "            print_que_imp.append(c1)\n",
    "            print_que_loc.append(c2)\n",
    "        else:\n",
    "            print_new_lst.append(c2)      \n",
    "    return print_new_lst.index(location) +1"
   ]
  }
 ],
 "metadata": {
  "kernelspec": {
   "display_name": "Python 3 (ipykernel)",
   "language": "python",
   "name": "python3"
  },
  "language_info": {
   "codemirror_mode": {
    "name": "ipython",
    "version": 3
   },
   "file_extension": ".py",
   "mimetype": "text/x-python",
   "name": "python",
   "nbconvert_exporter": "python",
   "pygments_lexer": "ipython3",
   "version": "3.7.6"
  }
 },
 "nbformat": 4,
 "nbformat_minor": 5
}
