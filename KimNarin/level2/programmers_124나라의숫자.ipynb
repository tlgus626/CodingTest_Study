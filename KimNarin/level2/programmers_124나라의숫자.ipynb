{
 "cells": [
  {
   "cell_type": "code",
   "execution_count": 3,
   "id": "f6f7cee6",
   "metadata": {},
   "outputs": [
    {
     "data": {
      "text/plain": [
       "4"
      ]
     },
     "execution_count": 3,
     "metadata": {},
     "output_type": "execute_result"
    }
   ],
   "source": []
  },
  {
   "cell_type": "code",
   "execution_count": 5,
   "id": "7b87db0d",
   "metadata": {},
   "outputs": [],
   "source": [
    "a = [1,2]"
   ]
  },
  {
   "cell_type": "code",
   "execution_count": 12,
   "id": "907188e8",
   "metadata": {},
   "outputs": [],
   "source": [
    "a.reverse()"
   ]
  },
  {
   "cell_type": "code",
   "execution_count": 13,
   "id": "724681f8",
   "metadata": {},
   "outputs": [
    {
     "data": {
      "text/plain": [
       "[2, 1]"
      ]
     },
     "execution_count": 13,
     "metadata": {},
     "output_type": "execute_result"
    }
   ],
   "source": [
    "a"
   ]
  },
  {
   "cell_type": "code",
   "execution_count": 11,
   "id": "63dca094",
   "metadata": {},
   "outputs": [
    {
     "data": {
      "text/plain": [
       "'12'"
      ]
     },
     "execution_count": 11,
     "metadata": {},
     "output_type": "execute_result"
    }
   ],
   "source": [
    "''.join(map(lambda x: str(x), a))"
   ]
  },
  {
   "cell_type": "code",
   "execution_count": 18,
   "id": "fc4d112e",
   "metadata": {},
   "outputs": [
    {
     "data": {
      "text/plain": [
       "2"
      ]
     },
     "execution_count": 18,
     "metadata": {},
     "output_type": "execute_result"
    }
   ],
   "source": [
    "n=3\n",
    "\n",
    "rlst=[]\n",
    "while True:\n",
    "    q  = n//3\n",
    "    r = n%3\n",
    "    if r == 0 :\n",
    "        rlst.append(4)\n",
    "        q1 = (q-1) //3\n",
    "        while True:\n",
    "            if (q1 == 0) & (q-1 != 0):\n",
    "                rlst.append(q1)\n",
    "    rlst.append(r)\n",
    "    if q==0:\n",
    "        break\n",
    "    else:\n",
    "        n = q\n",
    "int(''.join(map(lambda x: str(x), rlst.reverse())))"
   ]
  },
  {
   "cell_type": "code",
   "execution_count": 38,
   "id": "a756cede",
   "metadata": {},
   "outputs": [],
   "source": [
    "rlst=[]"
   ]
  },
  {
   "cell_type": "code",
   "execution_count": 44,
   "id": "91c430c0",
   "metadata": {},
   "outputs": [
    {
     "name": "stdout",
     "output_type": "stream",
     "text": [
      "q : 3\n",
      "r : 1\n",
      "[1, 0, 1]\n"
     ]
    },
    {
     "data": {
      "text/plain": [
       "101"
      ]
     },
     "execution_count": 44,
     "metadata": {},
     "output_type": "execute_result"
    }
   ],
   "source": [
    "n=10\n",
    "\n",
    "\n",
    "rlst=[]\n",
    "q  = n//3\n",
    "print('q :', q)\n",
    "r = n%3\n",
    "print('r :', r)\n",
    "if r==0 :\n",
    "    while True:\n",
    "        rlst.append(4)\n",
    "        q = q-1\n",
    "        q1  = q//3\n",
    "        r1 = q%3\n",
    "        rlst.append(r1)\n",
    "        if q1==0:\n",
    "            break\n",
    "            \n",
    "        \n",
    "if r!=0:\n",
    "    while True:\n",
    "        q  = n//3\n",
    "        r = n%3\n",
    "        rlst.append(r)\n",
    "        if q==0:\n",
    "            break\n",
    "        else:\n",
    "            n=q\n",
    "print(rlst)            \n",
    "rlst.reverse()\n",
    "int(''.join(map(lambda x: str(x), rlst)))"
   ]
  },
  {
   "cell_type": "code",
   "execution_count": 84,
   "id": "5c20e7c7",
   "metadata": {},
   "outputs": [
    {
     "data": {
      "text/plain": [
       "'112'"
      ]
     },
     "execution_count": 84,
     "metadata": {},
     "output_type": "execute_result"
    }
   ],
   "source": [
    "rlst=[]\n",
    "\n",
    "while True:\n",
    "    q = n //3\n",
    "    r = n%3\n",
    "    if q ==0:\n",
    "        rlst.append(r)\n",
    "        break\n",
    "    if r ==0:\n",
    "        rlst.append(4)\n",
    "        n = q-1\n",
    "        if n==0:\n",
    "            break\n",
    "    if r != 0:\n",
    "        rlst.append(r)\n",
    "        n = q         \n",
    "rlst.reverse()\n",
    "''.join(map(lambda x: str(x), rlst))"
   ]
  },
  {
   "cell_type": "code",
   "execution_count": 48,
   "id": "d0b94114",
   "metadata": {},
   "outputs": [
    {
     "data": {
      "text/plain": [
       "0"
      ]
     },
     "execution_count": 48,
     "metadata": {},
     "output_type": "execute_result"
    }
   ],
   "source": [
    "0%3"
   ]
  },
  {
   "cell_type": "code",
   "execution_count": null,
   "id": "41530a72",
   "metadata": {},
   "outputs": [],
   "source": [
    "def solution(n):\n",
    "    rlst=[]\n",
    "\n",
    "    while True:\n",
    "        q = n //3 # 몫을 계속 3으로 나누어줌\n",
    "        r = n%3 # 3으로 계속 나누어서 나머지를 리스트에 담는다는 생각으로 시작\n",
    "        if q ==0:  #몫이 0이 될때 스탑\n",
    "            rlst.append(r)\n",
    "            break\n",
    "        if r ==0: # 나머지가 0이면 4를 계속 담고 몫에서 1을 빼줘서 자리수를 바꾸어줌\n",
    "            rlst.append(4)\n",
    "            n = q-1\n",
    "            if n==0:\n",
    "                break\n",
    "        if r != 0: # 나머지를 계속 담아줌\n",
    "            rlst.append(r)\n",
    "            n = q         \n",
    "    rlst.reverse() # 리스트는 스택이므로 리벌스 취해줌\n",
    "    return ''.join(map(lambda x: str(x), rlst))"
   ]
  }
 ],
 "metadata": {
  "kernelspec": {
   "display_name": "Python 3 (ipykernel)",
   "language": "python",
   "name": "python3"
  },
  "language_info": {
   "codemirror_mode": {
    "name": "ipython",
    "version": 3
   },
   "file_extension": ".py",
   "mimetype": "text/x-python",
   "name": "python",
   "nbconvert_exporter": "python",
   "pygments_lexer": "ipython3",
   "version": "3.8.5"
  }
 },
 "nbformat": 4,
 "nbformat_minor": 5
}
