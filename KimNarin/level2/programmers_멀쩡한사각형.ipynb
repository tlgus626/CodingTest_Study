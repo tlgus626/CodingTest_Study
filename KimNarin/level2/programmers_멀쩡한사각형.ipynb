{
 "cells": [
  {
   "cell_type": "code",
   "execution_count": null,
   "id": "cb8206a7",
   "metadata": {},
   "outputs": [],
   "source": [
    "from math import gcd\n",
    "def solution(w,h):\n",
    "        \n",
    "    return w*h - (w+h - gcd(w,h))\n",
    "\n",
    "\n",
    "#  w *h - gcd (w//gcd + h//gcd -1 )\n",
    "# 최대 공약수로 가장 작은 패턴 찾기 > 수식화 \n",
    "# 수식화하는 과정에서 알고리즘 식이 떠오르지 않음"
   ]
  }
 ],
 "metadata": {
  "kernelspec": {
   "display_name": "Python 3 (ipykernel)",
   "language": "python",
   "name": "python3"
  },
  "language_info": {
   "codemirror_mode": {
    "name": "ipython",
    "version": 3
   },
   "file_extension": ".py",
   "mimetype": "text/x-python",
   "name": "python",
   "nbconvert_exporter": "python",
   "pygments_lexer": "ipython3",
   "version": "3.8.5"
  }
 },
 "nbformat": 4,
 "nbformat_minor": 5
}
