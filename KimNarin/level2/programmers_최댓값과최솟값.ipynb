{
 "cells": [
  {
   "cell_type": "code",
   "execution_count": 5,
   "id": "534736fc",
   "metadata": {},
   "outputs": [],
   "source": [
    "import pandas as pd\n",
    "import numpy as np\n",
    "import re"
   ]
  },
  {
   "cell_type": "code",
   "execution_count": 16,
   "id": "6f9f1935",
   "metadata": {},
   "outputs": [],
   "source": [
    "s1 = \"-1 -2 -3 -4\"\n",
    "s2 = \"1 2 3 4\"\n",
    "s3 = \"-1 -1\""
   ]
  },
  {
   "cell_type": "code",
   "execution_count": 35,
   "id": "1f60556a",
   "metadata": {},
   "outputs": [],
   "source": [
    "s_lst = s2.split(' ')"
   ]
  },
  {
   "cell_type": "code",
   "execution_count": 42,
   "id": "32ad7ab5",
   "metadata": {},
   "outputs": [],
   "source": [
    "s_num_lst = [int(i) for i in s1.split(' ')]"
   ]
  },
  {
   "cell_type": "code",
   "execution_count": 43,
   "id": "44721d62",
   "metadata": {},
   "outputs": [
    {
     "data": {
      "text/plain": [
       "[-1, -2, -3, -4]"
      ]
     },
     "execution_count": 43,
     "metadata": {},
     "output_type": "execute_result"
    }
   ],
   "source": [
    "s_num_lst"
   ]
  },
  {
   "cell_type": "code",
   "execution_count": 37,
   "id": "ee95c313",
   "metadata": {},
   "outputs": [],
   "source": [
    "max_idx = np.array(s_num_lst).argmax()\n",
    "min_idx = np.array(s_num_lst).argmin()"
   ]
  },
  {
   "cell_type": "code",
   "execution_count": 45,
   "id": "207841a7",
   "metadata": {},
   "outputs": [
    {
     "data": {
      "text/plain": [
       "'-4 -1'"
      ]
     },
     "execution_count": 45,
     "metadata": {},
     "output_type": "execute_result"
    }
   ],
   "source": [
    "' '.join([str(min(s_num_lst)), str(max(s_num_lst))])"
   ]
  },
  {
   "cell_type": "code",
   "execution_count": null,
   "id": "f4fc769a",
   "metadata": {},
   "outputs": [],
   "source": []
  }
 ],
 "metadata": {
  "kernelspec": {
   "display_name": "Python 3 (ipykernel)",
   "language": "python",
   "name": "python3"
  },
  "language_info": {
   "codemirror_mode": {
    "name": "ipython",
    "version": 3
   },
   "file_extension": ".py",
   "mimetype": "text/x-python",
   "name": "python",
   "nbconvert_exporter": "python",
   "pygments_lexer": "ipython3",
   "version": "3.8.5"
  }
 },
 "nbformat": 4,
 "nbformat_minor": 5
}
