{
 "cells": [
  {
   "cell_type": "markdown",
   "metadata": {},
   "source": [
    "# 프로그래머스 - 오픈채팅방"
   ]
  },
  {
   "cell_type": "code",
   "execution_count": 58,
   "metadata": {},
   "outputs": [],
   "source": [
    "record = [\"Enter uid1234 Muzi\", \"Enter uid4567 Prodo\",\"Leave uid1234\",\"Enter uid1234 Prodo\",\"Change uid4567 Ryan\"]"
   ]
  },
  {
   "cell_type": "code",
   "execution_count": 60,
   "metadata": {},
   "outputs": [],
   "source": [
    "def solution(record):\n",
    "\n",
    "    act_dict = {'Enter': '님이 들어왔습니다.', 'Leave': '님이 나갔습니다.'}\n",
    "\n",
    "    # id: key, name: value 딕셔너리\n",
    "    # Leave를 제외하고는 전부 3단어이고 Change는 가장 나중에 반영됨\n",
    "    id_dict = {s.split()[1]: s.split()[2] for s in record if len(s.split()) == 3}\n",
    "\n",
    "    result = []\n",
    "    for s in record:\n",
    "\n",
    "        # 'Change'가 들어간 구문은 패스\n",
    "        if s.split()[0] == 'Change': pass\n",
    "\n",
    "        # 딕셔너리 활용해서 새로운 출력 문장 저장\n",
    "        else: result.append(id_dict[s.split()[1]] + act_dict[s.split()[0]])\n",
    "    \n",
    "    return result"
   ]
  },
  {
   "cell_type": "code",
   "execution_count": 61,
   "metadata": {},
   "outputs": [
    {
     "data": {
      "text/plain": [
       "['Prodo님이 들어왔습니다.', 'Ryan님이 들어왔습니다.', 'Prodo님이 나갔습니다.', 'Prodo님이 들어왔습니다.']"
      ]
     },
     "execution_count": 61,
     "metadata": {},
     "output_type": "execute_result"
    }
   ],
   "source": [
    "solution(record)"
   ]
  },
  {
   "cell_type": "markdown",
   "metadata": {},
   "source": [
    "### 다소 시간 오래 걸리긴 했음"
   ]
  }
 ],
 "metadata": {
  "kernelspec": {
   "display_name": "Python 3.10.2 64-bit",
   "language": "python",
   "name": "python3"
  },
  "language_info": {
   "codemirror_mode": {
    "name": "ipython",
    "version": 3
   },
   "file_extension": ".py",
   "mimetype": "text/x-python",
   "name": "python",
   "nbconvert_exporter": "python",
   "pygments_lexer": "ipython3",
   "version": "3.10.2"
  },
  "orig_nbformat": 4,
  "vscode": {
   "interpreter": {
    "hash": "35a709b18549f3821755cf447a624debe2d5757e6152a382261c019f6f81fca7"
   }
  }
 },
 "nbformat": 4,
 "nbformat_minor": 2
}
