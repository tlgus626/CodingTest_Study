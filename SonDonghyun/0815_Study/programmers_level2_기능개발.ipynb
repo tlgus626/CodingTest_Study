{
 "cells": [
  {
   "cell_type": "markdown",
   "metadata": {},
   "source": [
    "# 프로그래머스 - 기능개발"
   ]
  },
  {
   "cell_type": "code",
   "execution_count": 2,
   "metadata": {},
   "outputs": [],
   "source": [
    "progresses = [93, 30, 55]\n",
    "speeds = [1, 100, 5]"
   ]
  },
  {
   "cell_type": "code",
   "execution_count": 10,
   "metadata": {},
   "outputs": [],
   "source": [
    "from collections import deque # 선입선출을 위해 큐 자료형 사용\n",
    "\n",
    "def solution(progresses, speeds):\n",
    "\n",
    "    # 남은 날짜를 계산 (소수점이어도 괜찮음)\n",
    "    day_left = deque([(100 - i) / j for i, j in zip(progresses, speeds)])\n",
    "\n",
    "    day = 0\n",
    "    result = []\n",
    "\n",
    "    # 큐가 빌 때까지 반복\n",
    "    while day_left != deque([]):\n",
    "\n",
    "        # 매 반복마다 날짜 하루씩 추가\n",
    "        day += 1\n",
    "\n",
    "        # 현재 날짜보다 큐의 첫번째 인덱스에 적힌 남은 날짜가 더 적으면\n",
    "        if day_left[0] <= day:\n",
    "            \n",
    "            release_cnt = 0 # 그 날 몇 개 기능이 릴리즈 되는지 카운트\n",
    "\n",
    "            while day_left[0] <= day: # 그 날 릴리즈 되는 모든 기능을 pop할 때까지 반복\n",
    "\n",
    "                day_left.popleft()\n",
    "                release_cnt += 1 # 카운트\n",
    "\n",
    "                if day_left == deque([]): break # 이걸 안 써주면 마지막 릴리즈 카운트를 못 기록함\n",
    "        \n",
    "            result.append(release_cnt) # 카운트를 기록\n",
    "\n",
    "    return result"
   ]
  },
  {
   "cell_type": "code",
   "execution_count": 11,
   "metadata": {},
   "outputs": [
    {
     "data": {
      "text/plain": [
       "[2, 1]"
      ]
     },
     "execution_count": 11,
     "metadata": {},
     "output_type": "execute_result"
    }
   ],
   "source": [
    "solution(progresses, speeds)"
   ]
  },
  {
   "cell_type": "markdown",
   "metadata": {},
   "source": [
    "#### 0817 피드백\n",
    "#### 1. while day_left: 만 남겨도 반복문 돌아갈 것\n",
    "#### 2. global을 대신하는 nonlocal이 있는데, 함수 안에 함수를 정의할 때 바깥 함수에 정의된 변수를 안쪽 함수로 수정할 때 nonlocal 사용하는 듯"
   ]
  }
 ],
 "metadata": {
  "kernelspec": {
   "display_name": "Python 3.10.2 64-bit",
   "language": "python",
   "name": "python3"
  },
  "language_info": {
   "codemirror_mode": {
    "name": "ipython",
    "version": 3
   },
   "file_extension": ".py",
   "mimetype": "text/x-python",
   "name": "python",
   "nbconvert_exporter": "python",
   "pygments_lexer": "ipython3",
   "version": "3.10.2"
  },
  "orig_nbformat": 4,
  "vscode": {
   "interpreter": {
    "hash": "35a709b18549f3821755cf447a624debe2d5757e6152a382261c019f6f81fca7"
   }
  }
 },
 "nbformat": 4,
 "nbformat_minor": 2
}
