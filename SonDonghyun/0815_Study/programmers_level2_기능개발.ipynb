{
 "cells": [
  {
   "cell_type": "markdown",
   "metadata": {},
   "source": [
    "# 프로그래머스 - 기능개발"
   ]
  },
  {
   "cell_type": "code",
   "execution_count": 2,
   "metadata": {},
   "outputs": [],
   "source": [
    "progresses = [93, 30, 55]\n",
    "speeds = [1, 100, 5]"
   ]
  },
  {
   "cell_type": "code",
   "execution_count": 10,
   "metadata": {},
   "outputs": [],
   "source": [
    "from collections import deque # 선입선출을 위해 큐 자료형 사용\n",
    "\n",
    "def solution(progresses, speeds):\n",
    "\n",
    "    # 남은 날짜를 계산 (소수점이어도 괜찮음)\n",
    "    day_left = deque([(100 - i) / j for i, j in zip(progresses, speeds)])\n",
    "\n",
    "    day = 0\n",
    "    result = []\n",
    "\n",
    "    # 큐가 빌 때까지 반복\n",
    "    while day_left != deque([]):\n",
    "\n",
    "        # 매 반복마다 날짜 하루씩 추가\n",
    "        day += 1\n",
    "\n",
    "        # 현재 날짜보다 큐의 첫번째 인덱스에 적힌 남은 날짜가 더 적으면\n",
    "        if day_left[0] <= day:\n",
    "            \n",
    "            release_cnt = 0 # 그 날 몇 개 기능이 릴리즈 되는지 카운트\n",
    "\n",
    "            while day_left[0] <= day: # 그 날 릴리즈 되는 모든 기능을 pop할 때까지 반복\n",
    "\n",
    "                day_left.popleft()\n",
    "                release_cnt += 1 # 카운트\n",
    "\n",
    "                if day_left == deque([]): break # 이걸 안 써주면 마지막 릴리즈 카운트를 못 기록함\n",
    "        \n",
    "            result.append(release_cnt) # 카운트를 기록\n",
    "\n",
    "    return result"
   ]
  },
  {
   "cell_type": "code",
   "execution_count": 11,
   "metadata": {},
   "outputs": [
    {
     "data": {
      "text/plain": [
       "[2, 1]"
      ]
     },
     "execution_count": 11,
     "metadata": {},
     "output_type": "execute_result"
    }
   ],
   "source": [
    "solution(progresses, speeds)"
   ]
  }
 ],
 "metadata": {
  "kernelspec": {
   "display_name": "Python 3.9.7 ('base')",
   "language": "python",
   "name": "python3"
  },
  "language_info": {
   "codemirror_mode": {
    "name": "ipython",
    "version": 3
   },
   "file_extension": ".py",
   "mimetype": "text/x-python",
   "name": "python",
   "nbconvert_exporter": "python",
   "pygments_lexer": "ipython3",
   "version": "3.9.7"
  },
  "orig_nbformat": 4,
  "vscode": {
   "interpreter": {
    "hash": "89ac6dd2201b5666063839014919a6a8e5ab411e0482cec326965e3203c35655"
   }
  }
 },
 "nbformat": 4,
 "nbformat_minor": 2
}
