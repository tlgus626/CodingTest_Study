{
 "cells": [
  {
   "cell_type": "markdown",
   "metadata": {},
   "source": [
    "# 프로그래머스 - 다트 게임"
   ]
  },
  {
   "cell_type": "code",
   "execution_count": 198,
   "metadata": {},
   "outputs": [],
   "source": [
    "dartResult_list = ['1S2D*3T', '1D2S#10S', '1D2S0T', '1S*2T*3S', '1D#2S*3S', '1T2D3D#', '1D2S3T*']"
   ]
  },
  {
   "cell_type": "code",
   "execution_count": 252,
   "metadata": {},
   "outputs": [],
   "source": [
    "def solution(dartResult):\n",
    "    if '10' in dartResult: dartResult = dartResult.replace('10', 't')\n",
    "    word_list = [str(i) for i in range(10)]+['t']+['S', 'D', 'T', '#', '*']\n",
    "    word_replace = ['+'+str(i) for i in range(11)] + ['**1', '**2', '**3', '*-1', '']\n",
    "\n",
    "    score_index = [index for index, w in enumerate(dartResult) if w in [str(i) for i in range(10)] + ['t']]\n",
    "    eval1, eval2, eval3 = dartResult[:score_index[1]], dartResult[score_index[1]:score_index[2]], dartResult[score_index[2]:]\n",
    "\n",
    "    star = [index for index, w in enumerate(dartResult) if w == '*']\n",
    "    star_index = [[], [2], [4], [5], [6], [7], [8], [2, 5], [2, 7], [2, 8], [4, 7], [5, 8], [2, 5, 8]]\n",
    "    star_weight = [[1, 1, 1], [2, 1, 1], [2, 2, 1], [2, 2, 1], [1, 2, 2], [1, 2, 2], [1, 2, 2], [4, 2, 1], [2, 2, 2], [2, 2, 2], [2, 4, 2], [2, 4, 2],  [4, 4, 2]]\n",
    "    weight = star_weight[star_index.index(star)]\n",
    "\n",
    "    result1, result2, result3 = '', '', ''\n",
    "    for index, w in enumerate(eval1):\n",
    "        result1 += word_replace[word_list.index(w)]\n",
    "    for index, w in enumerate(eval2):\n",
    "        result2 += word_replace[word_list.index(w)]\n",
    "    for index, w in enumerate(eval3):\n",
    "        result3 += word_replace[word_list.index(w)]\n",
    "\n",
    "\n",
    "    return eval(result1 * weight[0] + result2 * weight[1] + result3 * weight[2])"
   ]
  },
  {
   "cell_type": "code",
   "execution_count": 253,
   "metadata": {},
   "outputs": [
    {
     "data": {
      "text/plain": [
       "[37, 9, 3, 23, 5, -4, 59]"
      ]
     },
     "execution_count": 253,
     "metadata": {},
     "output_type": "execute_result"
    }
   ],
   "source": [
    "list(map(solution, dartResult_list))"
   ]
  }
 ],
 "metadata": {
  "kernelspec": {
   "display_name": "Python 3.9.7 ('tf')",
   "language": "python",
   "name": "python3"
  },
  "language_info": {
   "codemirror_mode": {
    "name": "ipython",
    "version": 3
   },
   "file_extension": ".py",
   "mimetype": "text/x-python",
   "name": "python",
   "nbconvert_exporter": "python",
   "pygments_lexer": "ipython3",
   "version": "3.9.7"
  },
  "orig_nbformat": 4,
  "vscode": {
   "interpreter": {
    "hash": "d88f82afb66455697598f3be97bf4103fd55222ccf64b880ef38c583c364c29c"
   }
  }
 },
 "nbformat": 4,
 "nbformat_minor": 2
}
