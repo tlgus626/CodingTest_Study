{
 "cells": [
  {
   "cell_type": "markdown",
   "metadata": {},
   "source": [
    "# 프로그래머스 - 타겟 넘버"
   ]
  },
  {
   "cell_type": "code",
   "execution_count": 44,
   "metadata": {},
   "outputs": [],
   "source": [
    "numbers = [1, 1, 1, 1, 1]\n",
    "target = 3"
   ]
  },
  {
   "cell_type": "code",
   "execution_count": 49,
   "metadata": {},
   "outputs": [],
   "source": [
    "# 테스트1, 2 시간초과\n",
    "def solution(numbers, target):\n",
    "\n",
    "    from itertools import product\n",
    "\n",
    "    booho = list(product(['+', '-'], repeat = (len(numbers)))) # 0.2초\n",
    "    cnt = 0\n",
    "\n",
    "    for i, pm in enumerate(booho): # 최대 O(2^20 * 20)\n",
    "\n",
    "        each_result = ''\n",
    "\n",
    "        for p, num in zip(pm, numbers):\n",
    "            each_result += p + str(num)\n",
    "            \n",
    "        if eval(each_result) == target: cnt += 1\n",
    "    \n",
    "    return cnt"
   ]
  },
  {
   "cell_type": "code",
   "execution_count": 46,
   "metadata": {},
   "outputs": [],
   "source": [
    "# DFS 성공\n",
    "\n",
    "# global로 지정해줄 cnt\n",
    "cnt = 0\n",
    "\n",
    "def solution(numbers, target):\n",
    "\n",
    "    def dfs(level, value):\n",
    "    \n",
    "        global cnt # 함수 외부 변수인 cnt 업데이트 할 수 있도록 global 사용\n",
    "    \n",
    "        if level == len(numbers): # level이 리스트 길이랑 같아지면 결과 업데이트 하고 return\n",
    "        \n",
    "            if value == target: # cnt 업데이트 조건: 계산한 값이 target 값과 같아질 때\n",
    "                cnt += 1\n",
    "        \n",
    "            return\n",
    "\n",
    "        # 재귀로 +한 결과와 -결과가 각각 뻗어나가도록 함\n",
    "        dfs(level + 1, value + numbers[level])\n",
    "        dfs(level + 1, value - numbers[level])\n",
    "    \n",
    "    # 정의한 dfs 함수 사용: level = 0, target = 0\n",
    "    dfs(0, 0)\n",
    "    \n",
    "    return cnt"
   ]
  },
  {
   "cell_type": "code",
   "execution_count": 47,
   "metadata": {},
   "outputs": [
    {
     "data": {
      "text/plain": [
       "5"
      ]
     },
     "execution_count": 47,
     "metadata": {},
     "output_type": "execute_result"
    }
   ],
   "source": [
    "solution(numbers, target)"
   ]
  },
  {
   "cell_type": "markdown",
   "metadata": {},
   "source": [
    "#### 0817 피드백\n",
    "#### 1. global을 대신하는 nonlocal이 있는데, 함수 안에 함수를 정의할 때 바깥 함수에 정의된 변수를 안쪽 함수로 수정할 때 nonlocal 사용하는 듯\n",
    "#### 2. 시현이가 알려준대로 풀어서 풀이 자체에 큰 차이는 없음"
   ]
  }
 ],
 "metadata": {
  "kernelspec": {
   "display_name": "Python 3.10.2 64-bit",
   "language": "python",
   "name": "python3"
  },
  "language_info": {
   "codemirror_mode": {
    "name": "ipython",
    "version": 3
   },
   "file_extension": ".py",
   "mimetype": "text/x-python",
   "name": "python",
   "nbconvert_exporter": "python",
   "pygments_lexer": "ipython3",
   "version": "3.10.2"
  },
  "orig_nbformat": 4,
  "vscode": {
   "interpreter": {
    "hash": "35a709b18549f3821755cf447a624debe2d5757e6152a382261c019f6f81fca7"
   }
  }
 },
 "nbformat": 4,
 "nbformat_minor": 2
}
