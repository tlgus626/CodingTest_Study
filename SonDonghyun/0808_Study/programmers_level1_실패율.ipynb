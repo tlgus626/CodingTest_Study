{
 "cells": [
  {
   "cell_type": "markdown",
   "metadata": {},
   "source": [
    "# 프로그래머스 - 실패율"
   ]
  },
  {
   "cell_type": "code",
   "execution_count": 46,
   "metadata": {},
   "outputs": [],
   "source": [
    "N = 5\n",
    "stages = [2, 1, 2, 6, 2, 4, 3, 3]\n"
   ]
  },
  {
   "cell_type": "code",
   "execution_count": 51,
   "metadata": {},
   "outputs": [],
   "source": [
    "def solution(N, stages):\n",
    "    n = len(stages)\n",
    "    fail_rate = []\n",
    "    for i in range(1, N + 1):\n",
    "        if n == 0: fail_rate.append((i, 0))\n",
    "        else:\n",
    "            cnt = stages.count(i)\n",
    "            fail_rate.append((i, cnt / n))\n",
    "            n -= cnt\n",
    "    fail_rate = sorted(fail_rate, key = lambda x: x[1], reverse = True)\n",
    "    return [i[0] for i in fail_rate]"
   ]
  },
  {
   "cell_type": "code",
   "execution_count": 53,
   "metadata": {},
   "outputs": [],
   "source": [
    "# 시간복잡도 줄이기\n",
    "from collections import Counter\n",
    "\n",
    "def solution(N, stages):\n",
    "\n",
    "    count_dict = Counter(stages)\n",
    "    n = sum(count_dict.values())\n",
    "    fail_rate = {}\n",
    "    \n",
    "    for i in range(1, N + 1): # O(N)\n",
    "        if n == 0: fail_rate[i] = 0\n",
    "        else:\n",
    "            if i not in count_dict: cnt = 0\n",
    "            else: cnt = count_dict[i] \n",
    "            fail_rate[i] = cnt / n\n",
    "            n -= cnt\n",
    "            \n",
    "    return sorted(fail_rate, key = lambda x: fail_rate[x], reverse = True)"
   ]
  },
  {
   "cell_type": "code",
   "execution_count": 32,
   "metadata": {},
   "outputs": [
    {
     "data": {
      "text/plain": [
       "[3, 4, 2, 1, 5]"
      ]
     },
     "execution_count": 32,
     "metadata": {},
     "output_type": "execute_result"
    }
   ],
   "source": [
    "solution(N, stages)"
   ]
  }
 ],
 "metadata": {
  "kernelspec": {
   "display_name": "Python 3.10.2 64-bit",
   "language": "python",
   "name": "python3"
  },
  "language_info": {
   "codemirror_mode": {
    "name": "ipython",
    "version": 3
   },
   "file_extension": ".py",
   "mimetype": "text/x-python",
   "name": "python",
   "nbconvert_exporter": "python",
   "pygments_lexer": "ipython3",
   "version": "3.10.2"
  },
  "orig_nbformat": 4,
  "vscode": {
   "interpreter": {
    "hash": "35a709b18549f3821755cf447a624debe2d5757e6152a382261c019f6f81fca7"
   }
  }
 },
 "nbformat": 4,
 "nbformat_minor": 2
}
