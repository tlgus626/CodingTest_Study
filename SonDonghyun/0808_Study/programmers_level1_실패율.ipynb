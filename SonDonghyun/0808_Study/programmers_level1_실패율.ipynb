{
 "cells": [
  {
   "cell_type": "markdown",
   "metadata": {},
   "source": [
    "# 프로그래머스 - 실패율"
   ]
  },
  {
   "cell_type": "code",
   "execution_count": 46,
   "metadata": {},
   "outputs": [],
   "source": [
    "N = 5\n",
    "stages = [2, 1, 2, 6, 2, 4, 3, 3]\n"
   ]
  },
  {
   "cell_type": "code",
   "execution_count": 51,
   "metadata": {},
   "outputs": [],
   "source": [
    "def solution(N, stages):\n",
    "\n",
    "    # n: 전체 사람 수\n",
    "    n = len(stages)\n",
    "\n",
    "    # 빈 리스트에 실패율 계산할 것\n",
    "    fail_rate = []\n",
    "\n",
    "    # for문으로 1부터 N까지 스테이지 확인\n",
    "    for i in range(1, N + 1):\n",
    "\n",
    "        # 깬 사람이 없는(n = 0인) 스테이지부터는 0을 입력할 것\n",
    "        if n == 0: fail_rate.append((i, 0))\n",
    "\n",
    "        # n = 0이 아니라면\n",
    "        else:\n",
    "\n",
    "            # 주어진 stage 리스트에서 i에 해당하는 수를 세서 cnt로 저장하고\n",
    "            cnt = stages.count(i)\n",
    "\n",
    "            # 스테이지를 의미하는 i와 실패율인 cnt / n 을 계산하여 fail_rate 리스트에 원소를 튜플 형식으로 업데이트\n",
    "            fail_rate.append((i, cnt / n))\n",
    "\n",
    "            # 해당 스테이지 사람 수만큼 빼기\n",
    "            n -= cnt\n",
    "    \n",
    "    # 구해진 fail_rate를 실패율 순으로 내림차순 정렬\n",
    "    fail_rate = sorted(fail_rate, key = lambda x: x[1], reverse = True) # key 인자를 써서, 원소인 튜플에서 인덱스 1에 해당하는 실패율 순으로 정렬\n",
    "\n",
    "    # fail_rate 리스트의 원소인 튜플에서 인덱스 0에 해당하는 stage 번호를 리스트 형태로 출력\n",
    "    return [i[0] for i in fail_rate]\n",
    "\n",
    "    ### 이 풀이는 코드 통과는 되지만 for문 안에서 count까지 진행하여 시간복잡도가 높아서 아쉬움"
   ]
  },
  {
   "cell_type": "code",
   "execution_count": 53,
   "metadata": {},
   "outputs": [],
   "source": [
    "# 시간복잡도 줄인 코드\n",
    "\n",
    "from collections import Counter # 내장 라이브러리인 collections 사용\n",
    "\n",
    "def solution(N, stages):\n",
    "    \n",
    "    # Counter 함수: stages리스트 내 원소의 개수를 전부 카운트 해서 딕셔너리 형으로 저장\n",
    "    count_dict = Counter(stages)\n",
    "\n",
    "    # 여기부터는 위의 풀이와 동일한 접근방식\n",
    "    n = sum(count_dict.values())\n",
    "\n",
    "    fail_rate = {} # 딕셔너리로 저장할 거라 중괄호 사용\n",
    "    \n",
    "    for i in range(1, N + 1): # O(N)\n",
    "        \n",
    "        # Count가 없는(n = 0인) 스테이지부터는 실패율 0으로 저장\n",
    "        if n == 0: fail_rate[i] = 0\n",
    "        \n",
    "        else:\n",
    "\n",
    "            # 만약 해당 스테이지가 count_dict에 저장이 안되어있으면 cnt = 0 입력\n",
    "            if i not in count_dict: cnt = 0\n",
    "\n",
    "            # count_dict에 있는 스테이지면 i번째 스테이지 call 해서 cnt라는 값으로 사용\n",
    "            else: cnt = count_dict[i]\n",
    "\n",
    "            # cnt를 전체 사람 수로 나눠 실패율 계산\n",
    "            fail_rate[i] = cnt / n\n",
    "\n",
    "            # 스테이지 도달했으나 못 푼 사람을 남은 사람 수에서 빼고 저장\n",
    "            n -= cnt\n",
    "    \n",
    "    # fail_rate 딕셔너리의 value값으로 정렬, 그때의 스테이지 출력\n",
    "    return sorted(fail_rate, key = lambda x: fail_rate[x], reverse = True)"
   ]
  },
  {
   "cell_type": "code",
   "execution_count": 32,
   "metadata": {},
   "outputs": [
    {
     "data": {
      "text/plain": [
       "[3, 4, 2, 1, 5]"
      ]
     },
     "execution_count": 32,
     "metadata": {},
     "output_type": "execute_result"
    }
   ],
   "source": [
    "solution(N, stages)"
   ]
  },
  {
   "cell_type": "markdown",
   "metadata": {},
   "source": [
    "### 0808 피드백\n",
    "#### 1. for문 안 쓴 다운이의 풀이 참고\n",
    "#### 2. for문 안에 map 함수를 쓰면 시간복잡도 매우 커짐"
   ]
  }
 ],
 "metadata": {
  "kernelspec": {
   "display_name": "Python 3.10.2 64-bit",
   "language": "python",
   "name": "python3"
  },
  "language_info": {
   "codemirror_mode": {
    "name": "ipython",
    "version": 3
   },
   "file_extension": ".py",
   "mimetype": "text/x-python",
   "name": "python",
   "nbconvert_exporter": "python",
   "pygments_lexer": "ipython3",
   "version": "3.10.2"
  },
  "orig_nbformat": 4,
  "vscode": {
   "interpreter": {
    "hash": "35a709b18549f3821755cf447a624debe2d5757e6152a382261c019f6f81fca7"
   }
  }
 },
 "nbformat": 4,
 "nbformat_minor": 2
}
