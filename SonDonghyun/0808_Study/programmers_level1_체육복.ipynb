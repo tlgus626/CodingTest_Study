{
 "cells": [
  {
   "cell_type": "markdown",
   "metadata": {},
   "source": [
    "# 프로그래머스 - 체육복"
   ]
  },
  {
   "cell_type": "code",
   "execution_count": 108,
   "metadata": {},
   "outputs": [],
   "source": [
    "n = 9\n",
    "lost = [2, 3, 4, 5]\n",
    "reserve = [5, 6]"
   ]
  },
  {
   "cell_type": "code",
   "execution_count": 112,
   "metadata": {},
   "outputs": [],
   "source": [
    "def solution(n, lost, reserve):\n",
    "\n",
    "    # 집합 자료형으로 reserve 집합에서 lost를 뺀 사람과 lost에서 reserve를 뺀 사람 저장\n",
    "    reserve, lost = set(reserve) - set(lost), set(lost) - set(reserve)\n",
    "\n",
    "    # 그럼에도 체육복이 남는 사람에 한해 반복\n",
    "    for num in reserve: # 여기서 num은 학생 번호임\n",
    "\n",
    "        # 체육복이 남는 학생의 앞 번호 학생이 lost 집합에 속한 경우\n",
    "        if num - 1 in lost:\n",
    "\n",
    "            # 빌려준 거라 치고 lost 집합에서 그 사람을 빼기 (만약에 여기서 빌려줬다면 elif로 안 넘어감)\n",
    "            lost = lost - {num - 1}\n",
    "        \n",
    "        # 앞 번호 학생은 옷이 있고, 뒷 번호 학생이 lost 집합에 속한 경우\n",
    "        elif num + 1 in lost:\n",
    "\n",
    "            # 뒷 번호 학생을 lost 집합에서 뺌\n",
    "            lost = lost - {num + 1}\n",
    "    \n",
    "    # 이제 전체 학생 수인 n에서 lost에 남아있는 학생 빼기\n",
    "    return len({i for i in range(1, n + 1)} - lost)"
   ]
  },
  {
   "cell_type": "code",
   "execution_count": 114,
   "metadata": {},
   "outputs": [
    {
     "data": {
      "text/plain": [
       "6"
      ]
     },
     "execution_count": 114,
     "metadata": {},
     "output_type": "execute_result"
    }
   ],
   "source": [
    "solution(n, lost, reserve)"
   ]
  },
  {
   "cell_type": "markdown",
   "metadata": {},
   "source": [
    "### 0808 피드백\n",
    "#### return에서 쓸데없는 세트 컴프리헨션 빼고 n - len(lost) 할 것"
   ]
  },
  {
   "cell_type": "code",
   "execution_count": null,
   "metadata": {},
   "outputs": [],
   "source": [
    "def solution(n, lost, reserve):\n",
    "\n",
    "    reserve, lost = set(reserve) - set(lost), set(lost) - set(reserve)\n",
    "\n",
    "    for num in reserve:\n",
    "        if num - 1 in lost:\n",
    "            lost = lost - {num - 1}\n",
    "        elif num + 1 in lost:\n",
    "            lost = lost - {num + 1}\n",
    "    \n",
    "    return n - len(lost) # 위 코드에서 여기만 수정함"
   ]
  }
 ],
 "metadata": {
  "kernelspec": {
   "display_name": "Python 3.10.2 64-bit",
   "language": "python",
   "name": "python3"
  },
  "language_info": {
   "codemirror_mode": {
    "name": "ipython",
    "version": 3
   },
   "file_extension": ".py",
   "mimetype": "text/x-python",
   "name": "python",
   "nbconvert_exporter": "python",
   "pygments_lexer": "ipython3",
   "version": "3.10.2"
  },
  "orig_nbformat": 4,
  "vscode": {
   "interpreter": {
    "hash": "35a709b18549f3821755cf447a624debe2d5757e6152a382261c019f6f81fca7"
   }
  }
 },
 "nbformat": 4,
 "nbformat_minor": 2
}
