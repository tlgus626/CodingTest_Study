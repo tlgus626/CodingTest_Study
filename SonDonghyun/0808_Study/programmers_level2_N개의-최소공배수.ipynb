{
 "cells": [
  {
   "cell_type": "markdown",
   "metadata": {},
   "source": [
    "# 프로그래머스 - N개의 최소공배수"
   ]
  },
  {
   "cell_type": "code",
   "execution_count": 12,
   "metadata": {},
   "outputs": [
    {
     "name": "stdout",
     "output_type": "stream",
     "text": [
      "[2, 3, 5, 7, 11, 13, 17, 19, 23, 29, 31, 37, 41, 43, 47]\n"
     ]
    }
   ],
   "source": [
    "# 문제에서 주어진 수에 제한이 있어서 그냥 소수를 직접 구하여 풂\n",
    "sosu = []\n",
    "for i in range(2, 51):\n",
    "    soinsu = []\n",
    "    for j in range(2, i+1):\n",
    "        if i % j == 0: soinsu.append(j)\n",
    "    if len(soinsu) == 1: sosu.append(i)\n",
    "print(sosu) # 직접 구한 소수 리스트"
   ]
  },
  {
   "cell_type": "code",
   "execution_count": 45,
   "metadata": {},
   "outputs": [],
   "source": [
    "def solution(arr):\n",
    "\n",
    "    # 소수 리스트 지정\n",
    "    sosu = [2, 3, 5, 7, 11, 13, 17, 19, 23, 29, 31, 37, 41, 43, 47]\n",
    "\n",
    "    # count하는 리스트 생성\n",
    "    count = [0] * len(sosu)\n",
    "\n",
    "    # arr 내 숫자의 개수만큼 반복\n",
    "    for num in arr:\n",
    "\n",
    "        # 소수 리스트에서 대입할 거라 소수 리스트 반복 (소인수분해임)\n",
    "        for i, a in enumerate(sosu):\n",
    "\n",
    "            # 나중에 count 리스트에 저장할 cnt값\n",
    "            cnt = 0\n",
    "\n",
    "            # 소수로 안 나눠질 때까지 반복\n",
    "            while num % a == 0:\n",
    "                cnt += 1\n",
    "                num //= a\n",
    "            \n",
    "            # 전체 숫자의 소인수 지수를 구할 수 있음\n",
    "            # (최소공배수는 모든 숫자의 소인수 중 지수가 가장 큰 값을 전부 곱한 값)\n",
    "            if cnt > count[i]: count[i] = cnt\n",
    "    \n",
    "    # 답을 출력하기 위한 값 answer는 1로 지정\n",
    "    answer = 1\n",
    "\n",
    "    # 각 소인수를 전부 곱하면 최소공배수\n",
    "    for i, num in enumerate(sosu):\n",
    "        answer *= num ** count[i]\n",
    "        \n",
    "    return(answer) # 괄호도 안 써도 될텐데 굳이 썼네"
   ]
  },
  {
   "cell_type": "code",
   "execution_count": 43,
   "metadata": {},
   "outputs": [],
   "source": [
    "arr = [2, 6, 18, 35]"
   ]
  },
  {
   "cell_type": "code",
   "execution_count": 46,
   "metadata": {},
   "outputs": [
    {
     "data": {
      "text/plain": [
       "630"
      ]
     },
     "execution_count": 46,
     "metadata": {},
     "output_type": "execute_result"
    }
   ],
   "source": [
    "solution(arr)"
   ]
  },
  {
   "cell_type": "markdown",
   "metadata": {},
   "source": [
    "### 0808 피드백\n",
    "#### 일일히 구하는 코드라 상당히 투박함\n",
    "#### 1. 리스트 내 가장 큰 수의 배수를 구해서 리스트의 모든 원소로 나눴을 때 나머지가 0이면 최소공배수(훨씬 합리적!)\n",
    "#### 2. 소수 계산할 때, 에라토스테네스의 체를 쓰는게 더 경제적\n",
    "#### 3. 아니면, n의 제곱근보다 작은 소수로 n을 나눴을 때 나머지가 0이 나오지 않으면 그 수는 소수라는 판별법도 있음\n"
   ]
  }
 ],
 "metadata": {
  "kernelspec": {
   "display_name": "Python 3.10.2 64-bit",
   "language": "python",
   "name": "python3"
  },
  "language_info": {
   "codemirror_mode": {
    "name": "ipython",
    "version": 3
   },
   "file_extension": ".py",
   "mimetype": "text/x-python",
   "name": "python",
   "nbconvert_exporter": "python",
   "pygments_lexer": "ipython3",
   "version": "3.10.2"
  },
  "orig_nbformat": 4,
  "vscode": {
   "interpreter": {
    "hash": "35a709b18549f3821755cf447a624debe2d5757e6152a382261c019f6f81fca7"
   }
  }
 },
 "nbformat": 4,
 "nbformat_minor": 2
}
