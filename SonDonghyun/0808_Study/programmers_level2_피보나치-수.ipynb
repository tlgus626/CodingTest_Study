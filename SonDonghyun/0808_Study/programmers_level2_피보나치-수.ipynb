{
 "cells": [
  {
   "cell_type": "markdown",
   "metadata": {},
   "source": [
    "# 프로그래머스 - 피보나치 수"
   ]
  },
  {
   "cell_type": "code",
   "execution_count": 25,
   "metadata": {},
   "outputs": [],
   "source": [
    "# 재귀함수를 썼을 때는 시간복잡도가 매우매우 높았음\n",
    "# 그래서 시간복잡도를 줄이고자 큐 자료형을 사용\n",
    "\n",
    "from collections import deque # 큐 자료형을 사용하기 위한 내장 라이브러리 collections\n",
    "\n",
    "def solution(n):\n",
    "    \n",
    "    # 함수 지정 안해도 되는데 재귀함수 쓰다가 함수 남겨버림\n",
    "    def F(n):\n",
    "\n",
    "        # 큐 자료형으로 [0, 1] 리스트를 저장\n",
    "        F = deque([0, 1])\n",
    "\n",
    "        # n번 반복\n",
    "        for _ in range(n - 1):\n",
    "\n",
    "            # 큐의 오른쪽에 F(i - 1) + F(i) 계산한 값 저장\n",
    "            F.append(F[0] + F[1])\n",
    "\n",
    "            # 큐의 왼쪽 값 제거\n",
    "            F.popleft()\n",
    "        \n",
    "        # 큐 자료형은 리스트로 변환해야 출력 가능\n",
    "        F = list(F)\n",
    "\n",
    "        # 첫번째 인덱스 값이 우리가 원하는 값\n",
    "        return F[1]\n",
    "    \n",
    "    # 그 피보나치 수를 1234567로 나눈 나머지 계산\n",
    "    return F(n) % 1234567"
   ]
  },
  {
   "cell_type": "code",
   "execution_count": 26,
   "metadata": {},
   "outputs": [
    {
     "data": {
      "text/plain": [
       "804020"
      ]
     },
     "execution_count": 26,
     "metadata": {},
     "output_type": "execute_result"
    }
   ],
   "source": [
    "solution(500)"
   ]
  },
  {
   "cell_type": "markdown",
   "metadata": {},
   "source": [
    "### 0808 피드백\n",
    "#### 1. 다른 친구들은 리스트의 마지막 인덱스 두 개를 더하는 식으로 함\n",
    "#### 2. 그렇게만 해도 시간 복잡도나 공간 복잡도 크지 않음\n",
    "#### 3. 그리고 함수 굳이 F 정의 안 해도 됨"
   ]
  },
  {
   "cell_type": "code",
   "execution_count": 1,
   "metadata": {},
   "outputs": [],
   "source": [
    "# 피드백 반영 코드 정리\n",
    "\n",
    "from collections import deque\n",
    "\n",
    "def solution(n):\n",
    "    \n",
    "    F = deque([0, 1])\n",
    "\n",
    "    for _ in range(n - 1):\n",
    "        F.append(F[0] + F[1])\n",
    "        F.popleft()\n",
    "    \n",
    "    return list(F)[1] % 1234567"
   ]
  }
 ],
 "metadata": {
  "kernelspec": {
   "display_name": "Python 3.9.7 ('tf')",
   "language": "python",
   "name": "python3"
  },
  "language_info": {
   "codemirror_mode": {
    "name": "ipython",
    "version": 3
   },
   "file_extension": ".py",
   "mimetype": "text/x-python",
   "name": "python",
   "nbconvert_exporter": "python",
   "pygments_lexer": "ipython3",
   "version": "3.9.7"
  },
  "orig_nbformat": 4,
  "vscode": {
   "interpreter": {
    "hash": "d88f82afb66455697598f3be97bf4103fd55222ccf64b880ef38c583c364c29c"
   }
  }
 },
 "nbformat": 4,
 "nbformat_minor": 2
}
