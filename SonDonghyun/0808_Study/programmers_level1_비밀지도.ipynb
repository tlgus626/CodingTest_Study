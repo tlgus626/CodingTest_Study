{
 "cells": [
  {
   "cell_type": "markdown",
   "metadata": {},
   "source": [
    "# 프로그래머스 - 비밀지도"
   ]
  },
  {
   "cell_type": "code",
   "execution_count": 1,
   "metadata": {},
   "outputs": [],
   "source": [
    "n = 5\n",
    "arr1 = [9, 20, 28, 18, 11] # 이진법으로 변환\n",
    "arr2 = [30, 1, 21, 17, 28]\n",
    "\n",
    " # '#', 공백으로 구성된 문자열 배열로 출력"
   ]
  },
  {
   "cell_type": "code",
   "execution_count": 46,
   "metadata": {},
   "outputs": [],
   "source": [
    "def solution(n, arr1, arr2):\n",
    "    \n",
    "    bin_arr1 = [bin(num)[2:] if len(bin(num)[2:]) == n else '0' * (n - len(bin(num)[2:])) + bin(num)[2:] for num in arr1]\n",
    "    bin_arr2 = [bin(num)[2:] if len(bin(num)[2:]) == n else '0' * (n - len(bin(num)[2:])) + bin(num)[2:] for num in arr2]\n",
    "    \n",
    "    result = [''] * n\n",
    "    for i in range(n):\n",
    "        for j in range(n):\n",
    "            if bin_arr1[i][j] == '0' and bin_arr2[i][j] == '0': result[i] += \" \"\n",
    "            else: result[i] += \"#\"\n",
    "    \n",
    "    return result"
   ]
  },
  {
   "cell_type": "code",
   "execution_count": 34,
   "metadata": {},
   "outputs": [],
   "source": [
    "bin_arr1, bin_arr2 = list(map((lambda arr, n : [bin(num)[2:] if len(bin(num)[2:]) == n else '0' * (n - len(bin(num)[2:])) + bin(num)[2:] for num in arr]), [arr1, arr2], [n, n]))"
   ]
  },
  {
   "cell_type": "code",
   "execution_count": 47,
   "metadata": {},
   "outputs": [
    {
     "data": {
      "text/plain": [
       "['#####', '# # #', '### #', '#  ##', '#####']"
      ]
     },
     "execution_count": 47,
     "metadata": {},
     "output_type": "execute_result"
    }
   ],
   "source": [
    "solution(n, arr1, arr2)"
   ]
  }
 ],
 "metadata": {
  "kernelspec": {
   "display_name": "Python 3.9.7 ('tf')",
   "language": "python",
   "name": "python3"
  },
  "language_info": {
   "codemirror_mode": {
    "name": "ipython",
    "version": 3
   },
   "file_extension": ".py",
   "mimetype": "text/x-python",
   "name": "python",
   "nbconvert_exporter": "python",
   "pygments_lexer": "ipython3",
   "version": "3.9.7"
  },
  "orig_nbformat": 4,
  "vscode": {
   "interpreter": {
    "hash": "d88f82afb66455697598f3be97bf4103fd55222ccf64b880ef38c583c364c29c"
   }
  }
 },
 "nbformat": 4,
 "nbformat_minor": 2
}
