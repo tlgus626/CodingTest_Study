{
 "cells": [
  {
   "cell_type": "markdown",
   "metadata": {},
   "source": [
    "# 프로그래머스 - 비밀지도"
   ]
  },
  {
   "cell_type": "code",
   "execution_count": 3,
   "metadata": {},
   "outputs": [],
   "source": [
    "n = 5\n",
    "arr1 = [9, 20, 28, 18, 11] # 이진법으로 변환\n",
    "arr2 = [30, 1, 21, 17, 28]\n",
    "\n",
    " # '#', 공백으로 구성된 문자열 배열로 출력"
   ]
  },
  {
   "cell_type": "code",
   "execution_count": 1,
   "metadata": {},
   "outputs": [],
   "source": [
    "def solution(n, arr1, arr2):\n",
    "    \n",
    "    # arr1과 arr2 내 원소에 bin 함수를 써서 이진법을 출력하되, 모든 숫자의 이진법 자릿수를 맞춰주기 위해 if문 사용\n",
    "    bin_arr1 = [bin(num)[2:] if len(bin(num)[2:]) == n else '0' * (n - len(bin(num)[2:])) + bin(num)[2:] for num in arr1]\n",
    "    bin_arr2 = [bin(num)[2:] if len(bin(num)[2:]) == n else '0' * (n - len(bin(num)[2:])) + bin(num)[2:] for num in arr2]\n",
    "    \n",
    "    # 리스트에 빈 문자열 원소 생성\n",
    "    result = [''] * n\n",
    "\n",
    "    # 반복문으로 공백 \" \" 혹은 \"#\" 채워넣기\n",
    "    for i in range(n):\n",
    "        for j in range(n): # 이중 반복문으로 시간복잡도 O(N^2)\n",
    "            if bin_arr1[i][j] == '0' and bin_arr2[i][j] == '0': result[i] += \" \"\n",
    "            else: result[i] += \"#\"\n",
    "    \n",
    "    return result"
   ]
  },
  {
   "cell_type": "code",
   "execution_count": 47,
   "metadata": {},
   "outputs": [
    {
     "data": {
      "text/plain": [
       "['#####', '# # #', '### #', '#  ##', '#####']"
      ]
     },
     "execution_count": 47,
     "metadata": {},
     "output_type": "execute_result"
    }
   ],
   "source": [
    "solution(n, arr1, arr2)"
   ]
  },
  {
   "cell_type": "markdown",
   "metadata": {},
   "source": [
    "### 0808 피드백\n",
    "#### zip() 함수를 사용해 두 arr1, arr2를 한번에 돌리면 시간복잡도 줄일 수 있음\n",
    "#### 이진법 출력하고 나서 0을 채워넣을 때, .zfill(n) 함수를 쓰면 좌측에 n에서 부족한 글자수만큼 0을 채워넣을 수 있음"
   ]
  },
  {
   "cell_type": "code",
   "execution_count": 23,
   "metadata": {},
   "outputs": [],
   "source": [
    "def solution(n, arr1, arr2):\n",
    "    \n",
    "    bin_arr1, bin_arr2 = list(map(lambda arr, n: [bin(num)[2:].zfill(n) for num in arr], [arr1, arr2], [n, n]))\n",
    "    \n",
    "    result = [''] * n\n",
    "\n",
    "    for i in range(n):\n",
    "        for j in range(n):\n",
    "            if bin_arr1[i][j] == '0' and bin_arr2[i][j] == '0': result[i] += \" \"\n",
    "            else: result[i] += \"#\"\n",
    "    \n",
    "    return result"
   ]
  }
 ],
 "metadata": {
  "kernelspec": {
   "display_name": "Python 3.9.7 ('tf')",
   "language": "python",
   "name": "python3"
  },
  "language_info": {
   "codemirror_mode": {
    "name": "ipython",
    "version": 3
   },
   "file_extension": ".py",
   "mimetype": "text/x-python",
   "name": "python",
   "nbconvert_exporter": "python",
   "pygments_lexer": "ipython3",
   "version": "3.9.7"
  },
  "orig_nbformat": 4,
  "vscode": {
   "interpreter": {
    "hash": "d88f82afb66455697598f3be97bf4103fd55222ccf64b880ef38c583c364c29c"
   }
  }
 },
 "nbformat": 4,
 "nbformat_minor": 2
}
